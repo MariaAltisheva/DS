{
 "cells": [
  {
   "cell_type": "code",
   "execution_count": 2,
   "metadata": {
    "collapsed": true,
    "ExecuteTime": {
     "end_time": "2023-06-19T13:10:57.662544836Z",
     "start_time": "2023-06-19T13:10:55.950849404Z"
    }
   },
   "outputs": [
    {
     "name": "stdout",
     "output_type": "stream",
     "text": [
      "Requirement already satisfied: pandas in ./venv/lib/python3.10/site-packages (2.0.2)\r\n",
      "Requirement already satisfied: numpy>=1.21.0 in ./venv/lib/python3.10/site-packages (from pandas) (1.24.3)\r\n",
      "Requirement already satisfied: python-dateutil>=2.8.2 in ./venv/lib/python3.10/site-packages (from pandas) (2.8.2)\r\n",
      "Requirement already satisfied: pytz>=2020.1 in ./venv/lib/python3.10/site-packages (from pandas) (2023.3)\r\n",
      "Requirement already satisfied: tzdata>=2022.1 in ./venv/lib/python3.10/site-packages (from pandas) (2023.3)\r\n",
      "Requirement already satisfied: six>=1.5 in ./venv/lib/python3.10/site-packages (from python-dateutil>=2.8.2->pandas) (1.16.0)\r\n",
      "\r\n",
      "\u001B[1m[\u001B[0m\u001B[34;49mnotice\u001B[0m\u001B[1;39;49m]\u001B[0m\u001B[39;49m A new release of pip available: \u001B[0m\u001B[31;49m22.3.1\u001B[0m\u001B[39;49m -> \u001B[0m\u001B[32;49m23.1.2\u001B[0m\r\n",
      "\u001B[1m[\u001B[0m\u001B[34;49mnotice\u001B[0m\u001B[1;39;49m]\u001B[0m\u001B[39;49m To update, run: \u001B[0m\u001B[32;49mpip install --upgrade pip\u001B[0m\r\n"
     ]
    }
   ],
   "source": [
    "!pip install pandas"
   ]
  },
  {
   "cell_type": "code",
   "execution_count": 3,
   "outputs": [],
   "source": [
    "import pandas as pd"
   ],
   "metadata": {
    "collapsed": false,
    "ExecuteTime": {
     "end_time": "2023-06-19T13:10:59.342686196Z",
     "start_time": "2023-06-19T13:10:58.651075381Z"
    }
   }
  },
  {
   "cell_type": "markdown",
   "source": [],
   "metadata": {
    "collapsed": false
   }
  },
  {
   "cell_type": "markdown",
   "source": [
    "1. Загрузите ваш DataFrame в переменную df и выведете на экран первые пять строк"
   ],
   "metadata": {
    "collapsed": false
   }
  },
  {
   "cell_type": "code",
   "execution_count": 4,
   "outputs": [],
   "source": [
    "df = pd.read_csv('googleplaystore(1).csv')"
   ],
   "metadata": {
    "collapsed": false,
    "ExecuteTime": {
     "end_time": "2023-06-19T13:11:01.962107120Z",
     "start_time": "2023-06-19T13:11:01.888106922Z"
    }
   }
  },
  {
   "cell_type": "markdown",
   "source": [
    "2. Отобразите количество строк и столбцов в DataFrame"
   ],
   "metadata": {
    "collapsed": false
   }
  },
  {
   "cell_type": "code",
   "execution_count": 5,
   "outputs": [
    {
     "data": {
      "text/plain": "(10841, 13)"
     },
     "execution_count": 5,
     "metadata": {},
     "output_type": "execute_result"
    }
   ],
   "source": [
    "df.shape"
   ],
   "metadata": {
    "collapsed": false,
    "ExecuteTime": {
     "end_time": "2023-06-19T13:11:04.908495108Z",
     "start_time": "2023-06-19T13:11:04.859416395Z"
    }
   }
  },
  {
   "cell_type": "code",
   "execution_count": 76,
   "outputs": [
    {
     "data": {
      "text/plain": "                                                 App        Category  Rating  \\\n0     Photo Editor & Candy Camera & Grid & ScrapBook  ART_AND_DESIGN     4.1   \n1                                Coloring book moana  ART_AND_DESIGN     3.9   \n2  U Launcher Lite – FREE Live Cool Themes, Hide ...  ART_AND_DESIGN     4.7   \n3                              Sketch - Draw & Paint  ART_AND_DESIGN     4.5   \n4              Pixel Draw - Number Art Coloring Book  ART_AND_DESIGN     4.3   \n\n  Reviews  Size     Installs  Type  Price Content Rating  \\\n0     159   19M      10,000+  Free    0.0       Everyone   \n1     967   14M     500,000+  Free    0.0       Everyone   \n2   87510  8.7M   5,000,000+  Free    0.0       Everyone   \n3  215644   25M  50,000,000+  Free    0.0           Teen   \n4     967  2.8M     100,000+  Free    0.0       Everyone   \n\n                      Genres      Last Updated         Current Ver  \\\n0               Art & Design   January 7, 2018               1.0.0   \n1  Art & Design;Pretend Play  January 15, 2018               2.0.0   \n2               Art & Design    August 1, 2018               1.2.4   \n3               Art & Design      June 8, 2018  Varies with device   \n4    Art & Design;Creativity     June 20, 2018                 1.1   \n\n    Android Ver  \n0  4.0.3 and up  \n1  4.0.3 and up  \n2  4.0.3 and up  \n3    4.2 and up  \n4    4.4 and up  ",
      "text/html": "<div>\n<style scoped>\n    .dataframe tbody tr th:only-of-type {\n        vertical-align: middle;\n    }\n\n    .dataframe tbody tr th {\n        vertical-align: top;\n    }\n\n    .dataframe thead th {\n        text-align: right;\n    }\n</style>\n<table border=\"1\" class=\"dataframe\">\n  <thead>\n    <tr style=\"text-align: right;\">\n      <th></th>\n      <th>App</th>\n      <th>Category</th>\n      <th>Rating</th>\n      <th>Reviews</th>\n      <th>Size</th>\n      <th>Installs</th>\n      <th>Type</th>\n      <th>Price</th>\n      <th>Content Rating</th>\n      <th>Genres</th>\n      <th>Last Updated</th>\n      <th>Current Ver</th>\n      <th>Android Ver</th>\n    </tr>\n  </thead>\n  <tbody>\n    <tr>\n      <th>0</th>\n      <td>Photo Editor &amp; Candy Camera &amp; Grid &amp; ScrapBook</td>\n      <td>ART_AND_DESIGN</td>\n      <td>4.1</td>\n      <td>159</td>\n      <td>19M</td>\n      <td>10,000+</td>\n      <td>Free</td>\n      <td>0.0</td>\n      <td>Everyone</td>\n      <td>Art &amp; Design</td>\n      <td>January 7, 2018</td>\n      <td>1.0.0</td>\n      <td>4.0.3 and up</td>\n    </tr>\n    <tr>\n      <th>1</th>\n      <td>Coloring book moana</td>\n      <td>ART_AND_DESIGN</td>\n      <td>3.9</td>\n      <td>967</td>\n      <td>14M</td>\n      <td>500,000+</td>\n      <td>Free</td>\n      <td>0.0</td>\n      <td>Everyone</td>\n      <td>Art &amp; Design;Pretend Play</td>\n      <td>January 15, 2018</td>\n      <td>2.0.0</td>\n      <td>4.0.3 and up</td>\n    </tr>\n    <tr>\n      <th>2</th>\n      <td>U Launcher Lite – FREE Live Cool Themes, Hide ...</td>\n      <td>ART_AND_DESIGN</td>\n      <td>4.7</td>\n      <td>87510</td>\n      <td>8.7M</td>\n      <td>5,000,000+</td>\n      <td>Free</td>\n      <td>0.0</td>\n      <td>Everyone</td>\n      <td>Art &amp; Design</td>\n      <td>August 1, 2018</td>\n      <td>1.2.4</td>\n      <td>4.0.3 and up</td>\n    </tr>\n    <tr>\n      <th>3</th>\n      <td>Sketch - Draw &amp; Paint</td>\n      <td>ART_AND_DESIGN</td>\n      <td>4.5</td>\n      <td>215644</td>\n      <td>25M</td>\n      <td>50,000,000+</td>\n      <td>Free</td>\n      <td>0.0</td>\n      <td>Teen</td>\n      <td>Art &amp; Design</td>\n      <td>June 8, 2018</td>\n      <td>Varies with device</td>\n      <td>4.2 and up</td>\n    </tr>\n    <tr>\n      <th>4</th>\n      <td>Pixel Draw - Number Art Coloring Book</td>\n      <td>ART_AND_DESIGN</td>\n      <td>4.3</td>\n      <td>967</td>\n      <td>2.8M</td>\n      <td>100,000+</td>\n      <td>Free</td>\n      <td>0.0</td>\n      <td>Everyone</td>\n      <td>Art &amp; Design;Creativity</td>\n      <td>June 20, 2018</td>\n      <td>1.1</td>\n      <td>4.4 and up</td>\n    </tr>\n  </tbody>\n</table>\n</div>"
     },
     "execution_count": 76,
     "metadata": {},
     "output_type": "execute_result"
    }
   ],
   "source": [
    "df.head()"
   ],
   "metadata": {
    "collapsed": false,
    "ExecuteTime": {
     "end_time": "2023-06-19T19:24:59.722616897Z",
     "start_time": "2023-06-19T19:24:59.656712046Z"
    }
   }
  },
  {
   "cell_type": "code",
   "execution_count": 7,
   "outputs": [
    {
     "data": {
      "text/plain": "                                                     App           Category  \\\n10675                        Circle Colors Pack-FN Theme    PERSONALIZATION   \n6216                                            Grabo.bg           SHOPPING   \n1210                                           9th stage     FOOD_AND_DRINK   \n59     REG - Check the regnumber, find information ab...  AUTO_AND_VEHICLES   \n7837             DU CS Lectures - Learn to Code for Free             FAMILY   \n\n       Rating Reviews  Size  Installs  Type  Price Content Rating  \\\n10675     4.2       6   89k       50+  Paid   0.99       Everyone   \n6216      4.6    8175  3.2M  100,000+  Free   0.00       Everyone   \n1210      4.5     454   16M  100,000+  Free   0.00       Everyone   \n59        3.9    3971  3.6M  100,000+  Free   0.00       Everyone   \n7837      4.8      16  7.8M      100+  Free   0.00       Everyone   \n\n                Genres    Last Updated Current Ver   Android Ver  \n10675  Personalization  August 9, 2013         1.0    2.2 and up  \n6216          Shopping   April 5, 2018       3.2.3  4.0.3 and up  \n1210      Food & Drink  March 28, 2018       2.0.0  4.0.3 and up  \n59     Auto & Vehicles   July 30, 2018       2.493    4.4 and up  \n7837         Education   July 29, 2018         4.0    4.1 and up  ",
      "text/html": "<div>\n<style scoped>\n    .dataframe tbody tr th:only-of-type {\n        vertical-align: middle;\n    }\n\n    .dataframe tbody tr th {\n        vertical-align: top;\n    }\n\n    .dataframe thead th {\n        text-align: right;\n    }\n</style>\n<table border=\"1\" class=\"dataframe\">\n  <thead>\n    <tr style=\"text-align: right;\">\n      <th></th>\n      <th>App</th>\n      <th>Category</th>\n      <th>Rating</th>\n      <th>Reviews</th>\n      <th>Size</th>\n      <th>Installs</th>\n      <th>Type</th>\n      <th>Price</th>\n      <th>Content Rating</th>\n      <th>Genres</th>\n      <th>Last Updated</th>\n      <th>Current Ver</th>\n      <th>Android Ver</th>\n    </tr>\n  </thead>\n  <tbody>\n    <tr>\n      <th>10675</th>\n      <td>Circle Colors Pack-FN Theme</td>\n      <td>PERSONALIZATION</td>\n      <td>4.2</td>\n      <td>6</td>\n      <td>89k</td>\n      <td>50+</td>\n      <td>Paid</td>\n      <td>0.99</td>\n      <td>Everyone</td>\n      <td>Personalization</td>\n      <td>August 9, 2013</td>\n      <td>1.0</td>\n      <td>2.2 and up</td>\n    </tr>\n    <tr>\n      <th>6216</th>\n      <td>Grabo.bg</td>\n      <td>SHOPPING</td>\n      <td>4.6</td>\n      <td>8175</td>\n      <td>3.2M</td>\n      <td>100,000+</td>\n      <td>Free</td>\n      <td>0.00</td>\n      <td>Everyone</td>\n      <td>Shopping</td>\n      <td>April 5, 2018</td>\n      <td>3.2.3</td>\n      <td>4.0.3 and up</td>\n    </tr>\n    <tr>\n      <th>1210</th>\n      <td>9th stage</td>\n      <td>FOOD_AND_DRINK</td>\n      <td>4.5</td>\n      <td>454</td>\n      <td>16M</td>\n      <td>100,000+</td>\n      <td>Free</td>\n      <td>0.00</td>\n      <td>Everyone</td>\n      <td>Food &amp; Drink</td>\n      <td>March 28, 2018</td>\n      <td>2.0.0</td>\n      <td>4.0.3 and up</td>\n    </tr>\n    <tr>\n      <th>59</th>\n      <td>REG - Check the regnumber, find information ab...</td>\n      <td>AUTO_AND_VEHICLES</td>\n      <td>3.9</td>\n      <td>3971</td>\n      <td>3.6M</td>\n      <td>100,000+</td>\n      <td>Free</td>\n      <td>0.00</td>\n      <td>Everyone</td>\n      <td>Auto &amp; Vehicles</td>\n      <td>July 30, 2018</td>\n      <td>2.493</td>\n      <td>4.4 and up</td>\n    </tr>\n    <tr>\n      <th>7837</th>\n      <td>DU CS Lectures - Learn to Code for Free</td>\n      <td>FAMILY</td>\n      <td>4.8</td>\n      <td>16</td>\n      <td>7.8M</td>\n      <td>100+</td>\n      <td>Free</td>\n      <td>0.00</td>\n      <td>Everyone</td>\n      <td>Education</td>\n      <td>July 29, 2018</td>\n      <td>4.0</td>\n      <td>4.1 and up</td>\n    </tr>\n  </tbody>\n</table>\n</div>"
     },
     "execution_count": 7,
     "metadata": {},
     "output_type": "execute_result"
    }
   ],
   "source": [
    "df.sample(5)"
   ],
   "metadata": {
    "collapsed": false,
    "ExecuteTime": {
     "end_time": "2023-06-19T13:11:10.451539033Z",
     "start_time": "2023-06-19T13:11:10.350604668Z"
    }
   }
  },
  {
   "cell_type": "markdown",
   "source": [
    "3. Выведете основную информацию о DataFrame методом info(). Проанализируйте есть ли пропуски в столбцах. Напишите вывод о том, какие столбцы содержат пропуски"
   ],
   "metadata": {
    "collapsed": false
   }
  },
  {
   "cell_type": "code",
   "execution_count": 8,
   "outputs": [
    {
     "name": "stdout",
     "output_type": "stream",
     "text": [
      "<class 'pandas.core.frame.DataFrame'>\n",
      "RangeIndex: 10841 entries, 0 to 10840\n",
      "Data columns (total 13 columns):\n",
      " #   Column          Non-Null Count  Dtype  \n",
      "---  ------          --------------  -----  \n",
      " 0   App             10841 non-null  object \n",
      " 1   Category        10841 non-null  object \n",
      " 2   Rating          9367 non-null   float64\n",
      " 3   Reviews         10841 non-null  object \n",
      " 4   Size            10841 non-null  object \n",
      " 5   Installs        10841 non-null  object \n",
      " 6   Type            10840 non-null  object \n",
      " 7   Price           10841 non-null  float64\n",
      " 8   Content Rating  10840 non-null  object \n",
      " 9   Genres          10841 non-null  object \n",
      " 10  Last Updated    10841 non-null  object \n",
      " 11  Current Ver     10833 non-null  object \n",
      " 12  Android Ver     10838 non-null  object \n",
      "dtypes: float64(2), object(11)\n",
      "memory usage: 1.1+ MB\n"
     ]
    }
   ],
   "source": [
    "df.info()"
   ],
   "metadata": {
    "collapsed": false,
    "ExecuteTime": {
     "end_time": "2023-06-19T13:11:14.571119453Z",
     "start_time": "2023-06-19T13:11:14.469000897Z"
    }
   }
  },
  {
   "cell_type": "markdown",
   "source": [
    "Проуски содержат такие столбцы, как Rating, Content Rating(1 пропуск), Current Ver, Android Ver"
   ],
   "metadata": {
    "collapsed": false
   }
  },
  {
   "cell_type": "markdown",
   "source": [
    "4. Удалите или замените пропуски известными вам методами. (Подсказка: dropna() или fillna(), выбор того или иного метода должен быть аргументирован)."
   ],
   "metadata": {
    "collapsed": false
   }
  },
  {
   "cell_type": "code",
   "execution_count": 13,
   "outputs": [],
   "source": [
    "df = df.dropna(axis=0)\n"
   ],
   "metadata": {
    "collapsed": false,
    "ExecuteTime": {
     "end_time": "2023-06-19T13:12:59.609029254Z",
     "start_time": "2023-06-19T13:12:59.545299157Z"
    }
   }
  },
  {
   "cell_type": "markdown",
   "source": [
    "5. Проверьте нет ли пропусков после произведенной обработки\n"
   ],
   "metadata": {
    "collapsed": false
   }
  },
  {
   "cell_type": "code",
   "execution_count": 14,
   "outputs": [
    {
     "name": "stdout",
     "output_type": "stream",
     "text": [
      "<class 'pandas.core.frame.DataFrame'>\n",
      "Index: 9360 entries, 0 to 10840\n",
      "Data columns (total 13 columns):\n",
      " #   Column          Non-Null Count  Dtype  \n",
      "---  ------          --------------  -----  \n",
      " 0   App             9360 non-null   object \n",
      " 1   Category        9360 non-null   object \n",
      " 2   Rating          9360 non-null   float64\n",
      " 3   Reviews         9360 non-null   object \n",
      " 4   Size            9360 non-null   object \n",
      " 5   Installs        9360 non-null   object \n",
      " 6   Type            9360 non-null   object \n",
      " 7   Price           9360 non-null   float64\n",
      " 8   Content Rating  9360 non-null   object \n",
      " 9   Genres          9360 non-null   object \n",
      " 10  Last Updated    9360 non-null   object \n",
      " 11  Current Ver     9360 non-null   object \n",
      " 12  Android Ver     9360 non-null   object \n",
      "dtypes: float64(2), object(11)\n",
      "memory usage: 1023.8+ KB\n"
     ]
    }
   ],
   "source": [
    "df.info()\n"
   ],
   "metadata": {
    "collapsed": false,
    "ExecuteTime": {
     "end_time": "2023-06-19T13:13:03.606927442Z",
     "start_time": "2023-06-19T13:13:03.569811227Z"
    }
   }
  },
  {
   "cell_type": "markdown",
   "source": [
    "Все значения Nan удалены и датасет перезаписан"
   ],
   "metadata": {
    "collapsed": false
   }
  },
  {
   "cell_type": "markdown",
   "source": [
    "6. Выведите на экран минимум и максимум из столбца `Price`:"
   ],
   "metadata": {
    "collapsed": false
   }
  },
  {
   "cell_type": "code",
   "execution_count": 25,
   "outputs": [
    {
     "data": {
      "text/plain": "0.0"
     },
     "execution_count": 25,
     "metadata": {},
     "output_type": "execute_result"
    }
   ],
   "source": [
    "df.min()['Price']"
   ],
   "metadata": {
    "collapsed": false,
    "ExecuteTime": {
     "end_time": "2023-06-19T13:19:07.069171900Z",
     "start_time": "2023-06-19T13:19:07.030823771Z"
    }
   }
  },
  {
   "cell_type": "code",
   "execution_count": 26,
   "outputs": [
    {
     "data": {
      "text/plain": "400.0"
     },
     "execution_count": 26,
     "metadata": {},
     "output_type": "execute_result"
    }
   ],
   "source": [
    "df.max()['Price']"
   ],
   "metadata": {
    "collapsed": false,
    "ExecuteTime": {
     "end_time": "2023-06-19T13:19:16.167088040Z",
     "start_time": "2023-06-19T13:19:16.121937482Z"
    }
   }
  },
  {
   "cell_type": "markdown",
   "source": [
    "7. Выведите на экран медиану и среднее арифметическое столбцов:\n",
    " - Rating\n",
    " - Reviews"
   ],
   "metadata": {
    "collapsed": false
   }
  },
  {
   "cell_type": "code",
   "execution_count": 28,
   "outputs": [
    {
     "data": {
      "text/plain": "            Rating        Price\ncount  9360.000000  9360.000000\nmean      4.191838     0.961279\nstd       0.515263    15.821640\nmin       1.000000     0.000000\n25%       4.000000     0.000000\n50%       4.300000     0.000000\n75%       4.500000     0.000000\nmax       5.000000   400.000000",
      "text/html": "<div>\n<style scoped>\n    .dataframe tbody tr th:only-of-type {\n        vertical-align: middle;\n    }\n\n    .dataframe tbody tr th {\n        vertical-align: top;\n    }\n\n    .dataframe thead th {\n        text-align: right;\n    }\n</style>\n<table border=\"1\" class=\"dataframe\">\n  <thead>\n    <tr style=\"text-align: right;\">\n      <th></th>\n      <th>Rating</th>\n      <th>Price</th>\n    </tr>\n  </thead>\n  <tbody>\n    <tr>\n      <th>count</th>\n      <td>9360.000000</td>\n      <td>9360.000000</td>\n    </tr>\n    <tr>\n      <th>mean</th>\n      <td>4.191838</td>\n      <td>0.961279</td>\n    </tr>\n    <tr>\n      <th>std</th>\n      <td>0.515263</td>\n      <td>15.821640</td>\n    </tr>\n    <tr>\n      <th>min</th>\n      <td>1.000000</td>\n      <td>0.000000</td>\n    </tr>\n    <tr>\n      <th>25%</th>\n      <td>4.000000</td>\n      <td>0.000000</td>\n    </tr>\n    <tr>\n      <th>50%</th>\n      <td>4.300000</td>\n      <td>0.000000</td>\n    </tr>\n    <tr>\n      <th>75%</th>\n      <td>4.500000</td>\n      <td>0.000000</td>\n    </tr>\n    <tr>\n      <th>max</th>\n      <td>5.000000</td>\n      <td>400.000000</td>\n    </tr>\n  </tbody>\n</table>\n</div>"
     },
     "execution_count": 28,
     "metadata": {},
     "output_type": "execute_result"
    }
   ],
   "source": [
    "df.describe()"
   ],
   "metadata": {
    "collapsed": false,
    "ExecuteTime": {
     "end_time": "2023-06-19T13:22:40.439086992Z",
     "start_time": "2023-06-19T13:22:40.388105457Z"
    }
   }
  },
  {
   "cell_type": "code",
   "execution_count": 38,
   "outputs": [
    {
     "data": {
      "text/plain": "4.3"
     },
     "execution_count": 38,
     "metadata": {},
     "output_type": "execute_result"
    }
   ],
   "source": [
    "df['Rating'].median()"
   ],
   "metadata": {
    "collapsed": false,
    "ExecuteTime": {
     "end_time": "2023-06-19T13:29:54.407119292Z",
     "start_time": "2023-06-19T13:29:54.332685779Z"
    }
   }
  },
  {
   "cell_type": "code",
   "execution_count": 39,
   "outputs": [
    {
     "data": {
      "text/plain": "5955.0"
     },
     "execution_count": 39,
     "metadata": {},
     "output_type": "execute_result"
    }
   ],
   "source": [
    "df['Reviews'].median()"
   ],
   "metadata": {
    "collapsed": false,
    "ExecuteTime": {
     "end_time": "2023-06-19T13:30:13.901510716Z",
     "start_time": "2023-06-19T13:30:13.845382363Z"
    }
   }
  },
  {
   "cell_type": "code",
   "execution_count": 40,
   "outputs": [
    {
     "data": {
      "text/plain": "4.191837606837606"
     },
     "execution_count": 40,
     "metadata": {},
     "output_type": "execute_result"
    }
   ],
   "source": [
    "df['Rating'].mean()"
   ],
   "metadata": {
    "collapsed": false,
    "ExecuteTime": {
     "end_time": "2023-06-19T13:30:22.710835859Z",
     "start_time": "2023-06-19T13:30:22.666839520Z"
    }
   }
  },
  {
   "cell_type": "code",
   "execution_count": 41,
   "outputs": [
    {
     "data": {
      "text/plain": "inf"
     },
     "execution_count": 41,
     "metadata": {},
     "output_type": "execute_result"
    }
   ],
   "source": [
    "df['Reviews'].mean()"
   ],
   "metadata": {
    "collapsed": false,
    "ExecuteTime": {
     "end_time": "2023-06-19T13:30:31.569514387Z",
     "start_time": "2023-06-19T13:30:31.523231187Z"
    }
   }
  },
  {
   "cell_type": "markdown",
   "source": [
    "8. Выведите на экран все уникальные значения категориального столбца Genres"
   ],
   "metadata": {
    "collapsed": false
   }
  },
  {
   "cell_type": "code",
   "execution_count": 42,
   "outputs": [
    {
     "data": {
      "text/plain": "array(['Art & Design', 'Art & Design;Pretend Play',\n       'Art & Design;Creativity', 'Auto & Vehicles', 'Beauty',\n       'Books & Reference', 'Business', 'Comics', 'Comics;Creativity',\n       'Communication', 'Dating', 'Education;Education', 'Education',\n       'Education;Creativity', 'Education;Music & Video',\n       'Education;Action & Adventure', 'Education;Pretend Play',\n       'Education;Brain Games', 'Entertainment',\n       'Entertainment;Music & Video', 'Entertainment;Brain Games',\n       'Entertainment;Creativity', 'Events', 'Finance', 'Food & Drink',\n       'Health & Fitness', 'House & Home', 'Libraries & Demo',\n       'Lifestyle', 'Lifestyle;Pretend Play',\n       'Adventure;Action & Adventure', 'Arcade', 'Casual', 'Card',\n       'Casual;Pretend Play', 'Action', 'Strategy', 'Puzzle', 'Sports',\n       'Music', 'Word', 'Racing', 'Casual;Creativity',\n       'Casual;Action & Adventure', 'Simulation', 'Adventure', 'Board',\n       'Trivia', 'Role Playing', 'Simulation;Education',\n       'Action;Action & Adventure', 'Casual;Brain Games',\n       'Simulation;Action & Adventure', 'Educational;Creativity',\n       'Puzzle;Brain Games', 'Educational;Education', 'Card;Brain Games',\n       'Educational;Brain Games', 'Educational;Pretend Play',\n       'Entertainment;Education', 'Casual;Education',\n       'Music;Music & Video', 'Racing;Action & Adventure',\n       'Arcade;Pretend Play', 'Role Playing;Action & Adventure',\n       'Simulation;Pretend Play', 'Puzzle;Creativity',\n       'Sports;Action & Adventure', 'Educational;Action & Adventure',\n       'Arcade;Action & Adventure', 'Entertainment;Action & Adventure',\n       'Puzzle;Action & Adventure', 'Strategy;Action & Adventure',\n       'Music & Audio;Music & Video', 'Health & Fitness;Education',\n       'Adventure;Education', 'Board;Brain Games',\n       'Board;Action & Adventure', 'Board;Pretend Play',\n       'Casual;Music & Video', 'Role Playing;Pretend Play',\n       'Entertainment;Pretend Play', 'Video Players & Editors;Creativity',\n       'Card;Action & Adventure', 'Medical', 'Social', 'Shopping',\n       'Photography', 'Travel & Local',\n       'Travel & Local;Action & Adventure', 'Tools', 'Tools;Education',\n       'Personalization', 'Productivity', 'Parenting',\n       'Parenting;Music & Video', 'Parenting;Brain Games',\n       'Parenting;Education', 'Weather', 'Video Players & Editors',\n       'Video Players & Editors;Music & Video', 'News & Magazines',\n       'Maps & Navigation', 'Health & Fitness;Action & Adventure',\n       'Educational', 'Casino', 'Adventure;Brain Games',\n       'Lifestyle;Education', 'Books & Reference;Education',\n       'Puzzle;Education', 'Role Playing;Brain Games',\n       'Strategy;Education', 'Racing;Pretend Play',\n       'Communication;Creativity', 'Strategy;Creativity'], dtype=object)"
     },
     "execution_count": 42,
     "metadata": {},
     "output_type": "execute_result"
    }
   ],
   "source": [
    "df['Genres'].unique()"
   ],
   "metadata": {
    "collapsed": false,
    "ExecuteTime": {
     "end_time": "2023-06-19T13:32:29.847917571Z",
     "start_time": "2023-06-19T13:32:29.774909007Z"
    }
   }
  },
  {
   "cell_type": "markdown",
   "source": [
    "9. Сгруппируйте данные по столбцу `Genres` и посчитайте для каждого жанра средний и медианный рейтинг. Представьте результат в виде нового DataFrame,который будет сохранен в переменную `grouped_df`, где одна колонка будет содержать названия жарнов, а две другие буду содержать в себе средний и медианный рейтинги. Напишите краткий вывод."
   ],
   "metadata": {
    "collapsed": false
   }
  },
  {
   "cell_type": "code",
   "execution_count": 77,
   "outputs": [
    {
     "data": {
      "text/plain": "                                           mean median\n                                         Rating Rating\nGenres                                                \nAction                                 4.279370    4.3\nAction;Action & Adventure              4.313333    4.3\nAdventure                              4.180822    4.3\nAdventure;Action & Adventure           4.423077    4.5\nAdventure;Brain Games                  4.600000    4.6\n...                                         ...    ...\nVideo Players & Editors                4.063924    4.2\nVideo Players & Editors;Creativity     4.100000    4.1\nVideo Players & Editors;Music & Video  4.000000    4.0\nWeather                                4.244000    4.3\nWord                                   4.396296    4.4\n\n[115 rows x 2 columns]",
      "text/html": "<div>\n<style scoped>\n    .dataframe tbody tr th:only-of-type {\n        vertical-align: middle;\n    }\n\n    .dataframe tbody tr th {\n        vertical-align: top;\n    }\n\n    .dataframe thead tr th {\n        text-align: left;\n    }\n\n    .dataframe thead tr:last-of-type th {\n        text-align: right;\n    }\n</style>\n<table border=\"1\" class=\"dataframe\">\n  <thead>\n    <tr>\n      <th></th>\n      <th>mean</th>\n      <th>median</th>\n    </tr>\n    <tr>\n      <th></th>\n      <th>Rating</th>\n      <th>Rating</th>\n    </tr>\n    <tr>\n      <th>Genres</th>\n      <th></th>\n      <th></th>\n    </tr>\n  </thead>\n  <tbody>\n    <tr>\n      <th>Action</th>\n      <td>4.279370</td>\n      <td>4.3</td>\n    </tr>\n    <tr>\n      <th>Action;Action &amp; Adventure</th>\n      <td>4.313333</td>\n      <td>4.3</td>\n    </tr>\n    <tr>\n      <th>Adventure</th>\n      <td>4.180822</td>\n      <td>4.3</td>\n    </tr>\n    <tr>\n      <th>Adventure;Action &amp; Adventure</th>\n      <td>4.423077</td>\n      <td>4.5</td>\n    </tr>\n    <tr>\n      <th>Adventure;Brain Games</th>\n      <td>4.600000</td>\n      <td>4.6</td>\n    </tr>\n    <tr>\n      <th>...</th>\n      <td>...</td>\n      <td>...</td>\n    </tr>\n    <tr>\n      <th>Video Players &amp; Editors</th>\n      <td>4.063924</td>\n      <td>4.2</td>\n    </tr>\n    <tr>\n      <th>Video Players &amp; Editors;Creativity</th>\n      <td>4.100000</td>\n      <td>4.1</td>\n    </tr>\n    <tr>\n      <th>Video Players &amp; Editors;Music &amp; Video</th>\n      <td>4.000000</td>\n      <td>4.0</td>\n    </tr>\n    <tr>\n      <th>Weather</th>\n      <td>4.244000</td>\n      <td>4.3</td>\n    </tr>\n    <tr>\n      <th>Word</th>\n      <td>4.396296</td>\n      <td>4.4</td>\n    </tr>\n  </tbody>\n</table>\n<p>115 rows × 2 columns</p>\n</div>"
     },
     "execution_count": 77,
     "metadata": {},
     "output_type": "execute_result"
    }
   ],
   "source": [
    "df.pivot_table(index='Genres', values=['Rating'], aggfunc=['mean', 'median'])"
   ],
   "metadata": {
    "collapsed": false,
    "ExecuteTime": {
     "end_time": "2023-06-19T19:26:24.569207579Z",
     "start_time": "2023-06-19T19:26:24.509388078Z"
    }
   }
  },
  {
   "cell_type": "markdown",
   "source": [
    "Вывод: чаще всегом медианные значения и средние близки. Однако медианные значения не требуют округления, поэтому данные значения удобнее использовать для дальнейших расчетов."
   ],
   "metadata": {
    "collapsed": false
   }
  },
  {
   "cell_type": "code",
   "execution_count": 99,
   "outputs": [],
   "source": [
    "grouped_df = df.groupby(by='Genres', as_index=False)['Rating'].agg(['median', 'mean'])"
   ],
   "metadata": {
    "collapsed": false,
    "ExecuteTime": {
     "end_time": "2023-06-19T19:47:10.864187428Z",
     "start_time": "2023-06-19T19:47:10.810595428Z"
    }
   }
  },
  {
   "cell_type": "code",
   "execution_count": 100,
   "outputs": [
    {
     "data": {
      "text/plain": "                                    Genres  median      mean\n0                                   Action     4.3  4.279370\n1                Action;Action & Adventure     4.3  4.313333\n2                                Adventure     4.3  4.180822\n3             Adventure;Action & Adventure     4.5  4.423077\n4                    Adventure;Brain Games     4.6  4.600000\n..                                     ...     ...       ...\n110                Video Players & Editors     4.2  4.063924\n111     Video Players & Editors;Creativity     4.1  4.100000\n112  Video Players & Editors;Music & Video     4.0  4.000000\n113                                Weather     4.3  4.244000\n114                                   Word     4.4  4.396296\n\n[115 rows x 3 columns]",
      "text/html": "<div>\n<style scoped>\n    .dataframe tbody tr th:only-of-type {\n        vertical-align: middle;\n    }\n\n    .dataframe tbody tr th {\n        vertical-align: top;\n    }\n\n    .dataframe thead th {\n        text-align: right;\n    }\n</style>\n<table border=\"1\" class=\"dataframe\">\n  <thead>\n    <tr style=\"text-align: right;\">\n      <th></th>\n      <th>Genres</th>\n      <th>median</th>\n      <th>mean</th>\n    </tr>\n  </thead>\n  <tbody>\n    <tr>\n      <th>0</th>\n      <td>Action</td>\n      <td>4.3</td>\n      <td>4.279370</td>\n    </tr>\n    <tr>\n      <th>1</th>\n      <td>Action;Action &amp; Adventure</td>\n      <td>4.3</td>\n      <td>4.313333</td>\n    </tr>\n    <tr>\n      <th>2</th>\n      <td>Adventure</td>\n      <td>4.3</td>\n      <td>4.180822</td>\n    </tr>\n    <tr>\n      <th>3</th>\n      <td>Adventure;Action &amp; Adventure</td>\n      <td>4.5</td>\n      <td>4.423077</td>\n    </tr>\n    <tr>\n      <th>4</th>\n      <td>Adventure;Brain Games</td>\n      <td>4.6</td>\n      <td>4.600000</td>\n    </tr>\n    <tr>\n      <th>...</th>\n      <td>...</td>\n      <td>...</td>\n      <td>...</td>\n    </tr>\n    <tr>\n      <th>110</th>\n      <td>Video Players &amp; Editors</td>\n      <td>4.2</td>\n      <td>4.063924</td>\n    </tr>\n    <tr>\n      <th>111</th>\n      <td>Video Players &amp; Editors;Creativity</td>\n      <td>4.1</td>\n      <td>4.100000</td>\n    </tr>\n    <tr>\n      <th>112</th>\n      <td>Video Players &amp; Editors;Music &amp; Video</td>\n      <td>4.0</td>\n      <td>4.000000</td>\n    </tr>\n    <tr>\n      <th>113</th>\n      <td>Weather</td>\n      <td>4.3</td>\n      <td>4.244000</td>\n    </tr>\n    <tr>\n      <th>114</th>\n      <td>Word</td>\n      <td>4.4</td>\n      <td>4.396296</td>\n    </tr>\n  </tbody>\n</table>\n<p>115 rows × 3 columns</p>\n</div>"
     },
     "execution_count": 100,
     "metadata": {},
     "output_type": "execute_result"
    }
   ],
   "source": [
    "grouped_df"
   ],
   "metadata": {
    "collapsed": false,
    "ExecuteTime": {
     "end_time": "2023-06-19T19:47:17.524938953Z",
     "start_time": "2023-06-19T19:47:17.507591516Z"
    }
   }
  },
  {
   "cell_type": "markdown",
   "source": [
    "10. Из получившегося датафрейма выведите на экран только те жанры, чей медианный рейтинг больше 4.5. Напишите краткий вывод."
   ],
   "metadata": {
    "collapsed": false
   }
  },
  {
   "cell_type": "code",
   "execution_count": 106,
   "outputs": [
    {
     "data": {
      "text/plain": "                            Genres  median      mean\n3     Adventure;Action & Adventure     4.5  4.423077\n4            Adventure;Brain Games     4.6  4.600000\n7        Arcade;Action & Adventure     4.5  4.350000\n8              Arcade;Pretend Play     4.5  4.500000\n10         Art & Design;Creativity     4.7  4.400000\n17              Board;Pretend Play     4.8  4.800000\n18               Books & Reference     4.5  4.347458\n27              Casual;Brain Games     4.5  4.469231\n33               Comics;Creativity     4.8  4.800000\n46         Educational;Brain Games     4.5  4.216667\n53        Entertainment;Creativity     4.6  4.533333\n57                          Events     4.5  4.435556\n60                Health & Fitness     4.5  4.261450\n62      Health & Fitness;Education     4.7  4.700000\n72             Music;Music & Video     4.6  4.533333\n74                       Parenting     4.5  4.340000\n85                Puzzle;Education     4.6  4.600000\n88             Racing;Pretend Play     4.5  4.500000\n95   Simulation;Action & Adventure     4.5  4.430000\n102    Strategy;Action & Adventure     4.6  4.600000\n104             Strategy;Education     4.5  4.500000\n106                Tools;Education     4.5  4.500000",
      "text/html": "<div>\n<style scoped>\n    .dataframe tbody tr th:only-of-type {\n        vertical-align: middle;\n    }\n\n    .dataframe tbody tr th {\n        vertical-align: top;\n    }\n\n    .dataframe thead th {\n        text-align: right;\n    }\n</style>\n<table border=\"1\" class=\"dataframe\">\n  <thead>\n    <tr style=\"text-align: right;\">\n      <th></th>\n      <th>Genres</th>\n      <th>median</th>\n      <th>mean</th>\n    </tr>\n  </thead>\n  <tbody>\n    <tr>\n      <th>3</th>\n      <td>Adventure;Action &amp; Adventure</td>\n      <td>4.5</td>\n      <td>4.423077</td>\n    </tr>\n    <tr>\n      <th>4</th>\n      <td>Adventure;Brain Games</td>\n      <td>4.6</td>\n      <td>4.600000</td>\n    </tr>\n    <tr>\n      <th>7</th>\n      <td>Arcade;Action &amp; Adventure</td>\n      <td>4.5</td>\n      <td>4.350000</td>\n    </tr>\n    <tr>\n      <th>8</th>\n      <td>Arcade;Pretend Play</td>\n      <td>4.5</td>\n      <td>4.500000</td>\n    </tr>\n    <tr>\n      <th>10</th>\n      <td>Art &amp; Design;Creativity</td>\n      <td>4.7</td>\n      <td>4.400000</td>\n    </tr>\n    <tr>\n      <th>17</th>\n      <td>Board;Pretend Play</td>\n      <td>4.8</td>\n      <td>4.800000</td>\n    </tr>\n    <tr>\n      <th>18</th>\n      <td>Books &amp; Reference</td>\n      <td>4.5</td>\n      <td>4.347458</td>\n    </tr>\n    <tr>\n      <th>27</th>\n      <td>Casual;Brain Games</td>\n      <td>4.5</td>\n      <td>4.469231</td>\n    </tr>\n    <tr>\n      <th>33</th>\n      <td>Comics;Creativity</td>\n      <td>4.8</td>\n      <td>4.800000</td>\n    </tr>\n    <tr>\n      <th>46</th>\n      <td>Educational;Brain Games</td>\n      <td>4.5</td>\n      <td>4.216667</td>\n    </tr>\n    <tr>\n      <th>53</th>\n      <td>Entertainment;Creativity</td>\n      <td>4.6</td>\n      <td>4.533333</td>\n    </tr>\n    <tr>\n      <th>57</th>\n      <td>Events</td>\n      <td>4.5</td>\n      <td>4.435556</td>\n    </tr>\n    <tr>\n      <th>60</th>\n      <td>Health &amp; Fitness</td>\n      <td>4.5</td>\n      <td>4.261450</td>\n    </tr>\n    <tr>\n      <th>62</th>\n      <td>Health &amp; Fitness;Education</td>\n      <td>4.7</td>\n      <td>4.700000</td>\n    </tr>\n    <tr>\n      <th>72</th>\n      <td>Music;Music &amp; Video</td>\n      <td>4.6</td>\n      <td>4.533333</td>\n    </tr>\n    <tr>\n      <th>74</th>\n      <td>Parenting</td>\n      <td>4.5</td>\n      <td>4.340000</td>\n    </tr>\n    <tr>\n      <th>85</th>\n      <td>Puzzle;Education</td>\n      <td>4.6</td>\n      <td>4.600000</td>\n    </tr>\n    <tr>\n      <th>88</th>\n      <td>Racing;Pretend Play</td>\n      <td>4.5</td>\n      <td>4.500000</td>\n    </tr>\n    <tr>\n      <th>95</th>\n      <td>Simulation;Action &amp; Adventure</td>\n      <td>4.5</td>\n      <td>4.430000</td>\n    </tr>\n    <tr>\n      <th>102</th>\n      <td>Strategy;Action &amp; Adventure</td>\n      <td>4.6</td>\n      <td>4.600000</td>\n    </tr>\n    <tr>\n      <th>104</th>\n      <td>Strategy;Education</td>\n      <td>4.5</td>\n      <td>4.500000</td>\n    </tr>\n    <tr>\n      <th>106</th>\n      <td>Tools;Education</td>\n      <td>4.5</td>\n      <td>4.500000</td>\n    </tr>\n  </tbody>\n</table>\n</div>"
     },
     "execution_count": 106,
     "metadata": {},
     "output_type": "execute_result"
    }
   ],
   "source": [
    "grouped_df.loc[(grouped_df['median']  >= 4.5)]"
   ],
   "metadata": {
    "collapsed": false,
    "ExecuteTime": {
     "end_time": "2023-06-19T19:50:54.758763951Z",
     "start_time": "2023-06-19T19:50:54.726297078Z"
    }
   }
  },
  {
   "cell_type": "markdown",
   "source": [
    "11. Выведете кол-во дубликатов в основном DataFrame (df) и удалите их\n"
   ],
   "metadata": {
    "collapsed": false
   }
  },
  {
   "cell_type": "code",
   "execution_count": 73,
   "outputs": [
    {
     "data": {
      "text/plain": "                                                     App             Category  \\\n0         Photo Editor & Candy Camera & Grid & ScrapBook       ART_AND_DESIGN   \n1                                    Coloring book moana       ART_AND_DESIGN   \n2      U Launcher Lite – FREE Live Cool Themes, Hide ...       ART_AND_DESIGN   \n3                                  Sketch - Draw & Paint       ART_AND_DESIGN   \n4                  Pixel Draw - Number Art Coloring Book       ART_AND_DESIGN   \n...                                                  ...                  ...   \n10834                                      FR Calculator               FAMILY   \n10836                                   Sya9a Maroc - FR               FAMILY   \n10837                   Fr. Mike Schmitz Audio Teachings               FAMILY   \n10839                      The SCP Foundation DB fr nn5n  BOOKS_AND_REFERENCE   \n10840      iHoroscope - 2018 Daily Horoscope & Astrology            LIFESTYLE   \n\n       Rating Reviews                Size     Installs  Type  Price  \\\n0         4.1     159                 19M      10,000+  Free    0.0   \n1         3.9     967                 14M     500,000+  Free    0.0   \n2         4.7   87510                8.7M   5,000,000+  Free    0.0   \n3         4.5  215644                 25M  50,000,000+  Free    0.0   \n4         4.3     967                2.8M     100,000+  Free    0.0   \n...       ...     ...                 ...          ...   ...    ...   \n10834     4.0       7                2.6M         500+  Free    0.0   \n10836     4.5      38                 53M       5,000+  Free    0.0   \n10837     5.0       4                3.6M         100+  Free    0.0   \n10839     4.5     114  Varies with device       1,000+  Free    0.0   \n10840     4.5  398307                 19M  10,000,000+  Free    0.0   \n\n      Content Rating                     Genres      Last Updated  \\\n0           Everyone               Art & Design   January 7, 2018   \n1           Everyone  Art & Design;Pretend Play  January 15, 2018   \n2           Everyone               Art & Design    August 1, 2018   \n3               Teen               Art & Design      June 8, 2018   \n4           Everyone    Art & Design;Creativity     June 20, 2018   \n...              ...                        ...               ...   \n10834       Everyone                  Education     June 18, 2017   \n10836       Everyone                  Education     July 25, 2017   \n10837       Everyone                  Education      July 6, 2018   \n10839     Mature 17+          Books & Reference  January 19, 2015   \n10840       Everyone                  Lifestyle     July 25, 2018   \n\n              Current Ver         Android Ver  \n0                   1.0.0        4.0.3 and up  \n1                   2.0.0        4.0.3 and up  \n2                   1.2.4        4.0.3 and up  \n3      Varies with device          4.2 and up  \n4                     1.1          4.4 and up  \n...                   ...                 ...  \n10834               1.0.0          4.1 and up  \n10836                1.48          4.1 and up  \n10837                 1.0          4.1 and up  \n10839  Varies with device  Varies with device  \n10840  Varies with device  Varies with device  \n\n[8886 rows x 13 columns]",
      "text/html": "<div>\n<style scoped>\n    .dataframe tbody tr th:only-of-type {\n        vertical-align: middle;\n    }\n\n    .dataframe tbody tr th {\n        vertical-align: top;\n    }\n\n    .dataframe thead th {\n        text-align: right;\n    }\n</style>\n<table border=\"1\" class=\"dataframe\">\n  <thead>\n    <tr style=\"text-align: right;\">\n      <th></th>\n      <th>App</th>\n      <th>Category</th>\n      <th>Rating</th>\n      <th>Reviews</th>\n      <th>Size</th>\n      <th>Installs</th>\n      <th>Type</th>\n      <th>Price</th>\n      <th>Content Rating</th>\n      <th>Genres</th>\n      <th>Last Updated</th>\n      <th>Current Ver</th>\n      <th>Android Ver</th>\n    </tr>\n  </thead>\n  <tbody>\n    <tr>\n      <th>0</th>\n      <td>Photo Editor &amp; Candy Camera &amp; Grid &amp; ScrapBook</td>\n      <td>ART_AND_DESIGN</td>\n      <td>4.1</td>\n      <td>159</td>\n      <td>19M</td>\n      <td>10,000+</td>\n      <td>Free</td>\n      <td>0.0</td>\n      <td>Everyone</td>\n      <td>Art &amp; Design</td>\n      <td>January 7, 2018</td>\n      <td>1.0.0</td>\n      <td>4.0.3 and up</td>\n    </tr>\n    <tr>\n      <th>1</th>\n      <td>Coloring book moana</td>\n      <td>ART_AND_DESIGN</td>\n      <td>3.9</td>\n      <td>967</td>\n      <td>14M</td>\n      <td>500,000+</td>\n      <td>Free</td>\n      <td>0.0</td>\n      <td>Everyone</td>\n      <td>Art &amp; Design;Pretend Play</td>\n      <td>January 15, 2018</td>\n      <td>2.0.0</td>\n      <td>4.0.3 and up</td>\n    </tr>\n    <tr>\n      <th>2</th>\n      <td>U Launcher Lite – FREE Live Cool Themes, Hide ...</td>\n      <td>ART_AND_DESIGN</td>\n      <td>4.7</td>\n      <td>87510</td>\n      <td>8.7M</td>\n      <td>5,000,000+</td>\n      <td>Free</td>\n      <td>0.0</td>\n      <td>Everyone</td>\n      <td>Art &amp; Design</td>\n      <td>August 1, 2018</td>\n      <td>1.2.4</td>\n      <td>4.0.3 and up</td>\n    </tr>\n    <tr>\n      <th>3</th>\n      <td>Sketch - Draw &amp; Paint</td>\n      <td>ART_AND_DESIGN</td>\n      <td>4.5</td>\n      <td>215644</td>\n      <td>25M</td>\n      <td>50,000,000+</td>\n      <td>Free</td>\n      <td>0.0</td>\n      <td>Teen</td>\n      <td>Art &amp; Design</td>\n      <td>June 8, 2018</td>\n      <td>Varies with device</td>\n      <td>4.2 and up</td>\n    </tr>\n    <tr>\n      <th>4</th>\n      <td>Pixel Draw - Number Art Coloring Book</td>\n      <td>ART_AND_DESIGN</td>\n      <td>4.3</td>\n      <td>967</td>\n      <td>2.8M</td>\n      <td>100,000+</td>\n      <td>Free</td>\n      <td>0.0</td>\n      <td>Everyone</td>\n      <td>Art &amp; Design;Creativity</td>\n      <td>June 20, 2018</td>\n      <td>1.1</td>\n      <td>4.4 and up</td>\n    </tr>\n    <tr>\n      <th>...</th>\n      <td>...</td>\n      <td>...</td>\n      <td>...</td>\n      <td>...</td>\n      <td>...</td>\n      <td>...</td>\n      <td>...</td>\n      <td>...</td>\n      <td>...</td>\n      <td>...</td>\n      <td>...</td>\n      <td>...</td>\n      <td>...</td>\n    </tr>\n    <tr>\n      <th>10834</th>\n      <td>FR Calculator</td>\n      <td>FAMILY</td>\n      <td>4.0</td>\n      <td>7</td>\n      <td>2.6M</td>\n      <td>500+</td>\n      <td>Free</td>\n      <td>0.0</td>\n      <td>Everyone</td>\n      <td>Education</td>\n      <td>June 18, 2017</td>\n      <td>1.0.0</td>\n      <td>4.1 and up</td>\n    </tr>\n    <tr>\n      <th>10836</th>\n      <td>Sya9a Maroc - FR</td>\n      <td>FAMILY</td>\n      <td>4.5</td>\n      <td>38</td>\n      <td>53M</td>\n      <td>5,000+</td>\n      <td>Free</td>\n      <td>0.0</td>\n      <td>Everyone</td>\n      <td>Education</td>\n      <td>July 25, 2017</td>\n      <td>1.48</td>\n      <td>4.1 and up</td>\n    </tr>\n    <tr>\n      <th>10837</th>\n      <td>Fr. Mike Schmitz Audio Teachings</td>\n      <td>FAMILY</td>\n      <td>5.0</td>\n      <td>4</td>\n      <td>3.6M</td>\n      <td>100+</td>\n      <td>Free</td>\n      <td>0.0</td>\n      <td>Everyone</td>\n      <td>Education</td>\n      <td>July 6, 2018</td>\n      <td>1.0</td>\n      <td>4.1 and up</td>\n    </tr>\n    <tr>\n      <th>10839</th>\n      <td>The SCP Foundation DB fr nn5n</td>\n      <td>BOOKS_AND_REFERENCE</td>\n      <td>4.5</td>\n      <td>114</td>\n      <td>Varies with device</td>\n      <td>1,000+</td>\n      <td>Free</td>\n      <td>0.0</td>\n      <td>Mature 17+</td>\n      <td>Books &amp; Reference</td>\n      <td>January 19, 2015</td>\n      <td>Varies with device</td>\n      <td>Varies with device</td>\n    </tr>\n    <tr>\n      <th>10840</th>\n      <td>iHoroscope - 2018 Daily Horoscope &amp; Astrology</td>\n      <td>LIFESTYLE</td>\n      <td>4.5</td>\n      <td>398307</td>\n      <td>19M</td>\n      <td>10,000,000+</td>\n      <td>Free</td>\n      <td>0.0</td>\n      <td>Everyone</td>\n      <td>Lifestyle</td>\n      <td>July 25, 2018</td>\n      <td>Varies with device</td>\n      <td>Varies with device</td>\n    </tr>\n  </tbody>\n</table>\n<p>8886 rows × 13 columns</p>\n</div>"
     },
     "execution_count": 73,
     "metadata": {},
     "output_type": "execute_result"
    }
   ],
   "source": [
    "df.drop_duplicates()"
   ],
   "metadata": {
    "collapsed": false,
    "ExecuteTime": {
     "end_time": "2023-06-19T13:56:06.694683230Z",
     "start_time": "2023-06-19T13:56:06.639213452Z"
    }
   }
  },
  {
   "cell_type": "markdown",
   "source": [
    "12. Посчитатайте какое количество приложений содержится в каждом жанре (value_counts).В получившемся Series выведите на экран 10 строк с наибольшим количеством приложений отсортированных по убыванию."
   ],
   "metadata": {
    "collapsed": false
   }
  },
  {
   "cell_type": "code",
   "execution_count": 107,
   "outputs": [],
   "source": [
    "s = df.value_counts(df.App)"
   ],
   "metadata": {
    "collapsed": false,
    "ExecuteTime": {
     "end_time": "2023-06-19T19:53:27.746843680Z",
     "start_time": "2023-06-19T19:53:27.697237371Z"
    }
   }
  },
  {
   "cell_type": "code",
   "execution_count": 108,
   "outputs": [
    {
     "data": {
      "text/plain": "App\nROBLOX                                              9\n8 Ball Pool                                         7\nHelix Jump                                          6\nBubble Shooter                                      6\nZombie Catchers                                     6\n                                                   ..\nDr. Parking 4                                       1\nDr. Parker : Real car parking simulation            1\nDr. Parker : Parking Simulator                      1\nDr. Panda's Swimming Pool                           1\n🔥 Football Wallpapers 4K | Full HD Backgrounds 😍    1\nName: count, Length: 8190, dtype: int64"
     },
     "execution_count": 108,
     "metadata": {},
     "output_type": "execute_result"
    }
   ],
   "source": [
    "s"
   ],
   "metadata": {
    "collapsed": false,
    "ExecuteTime": {
     "end_time": "2023-06-19T19:53:29.989600644Z",
     "start_time": "2023-06-19T19:53:29.934601604Z"
    }
   }
  },
  {
   "cell_type": "markdown",
   "source": [
    "Вывод: Самое популярное приложение Roblox."
   ],
   "metadata": {
    "collapsed": false
   }
  },
  {
   "cell_type": "code",
   "execution_count": null,
   "outputs": [],
   "source": [],
   "metadata": {
    "collapsed": false
   }
  },
  {
   "cell_type": "markdown",
   "source": [],
   "metadata": {
    "collapsed": false
   }
  }
 ],
 "metadata": {
  "kernelspec": {
   "display_name": "Python 3",
   "language": "python",
   "name": "python3"
  },
  "language_info": {
   "codemirror_mode": {
    "name": "ipython",
    "version": 2
   },
   "file_extension": ".py",
   "mimetype": "text/x-python",
   "name": "python",
   "nbconvert_exporter": "python",
   "pygments_lexer": "ipython2",
   "version": "2.7.6"
  }
 },
 "nbformat": 4,
 "nbformat_minor": 0
}

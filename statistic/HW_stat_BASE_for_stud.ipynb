{
 "cells": [
  {
   "cell_type": "markdown",
   "id": "8277ca02",
   "metadata": {
    "id": "8277ca02",
    "papermill": {
     "duration": 0.112743,
     "end_time": "2022-09-17T00:12:57.265328",
     "exception": false,
     "start_time": "2022-09-17T00:12:57.152585",
     "status": "completed"
    },
    "tags": []
   },
   "source": [
    "\n",
    "# Проверка гипотез с помощью python."
   ]
  },
  {
   "cell_type": "markdown",
   "id": "ed2f4a30",
   "metadata": {
    "id": "ed2f4a30",
    "papermill": {
     "duration": 0.109327,
     "end_time": "2022-09-17T00:12:57.963155",
     "exception": false,
     "start_time": "2022-09-17T00:12:57.853828",
     "status": "completed"
    },
    "tags": []
   },
   "source": [
    "## Задание\n",
    "\n",
    "* Выполнить проверку предложенной гипотезы\n",
    "* Выполнить проверку статистической гипотезы для проверки нормальности числовых признаков\n",
    "* Проверка мультиколлинеарности\n",
    "* Все статистические тесты должны быть выполнены с 95%-м уровнем достоверности (т.е. значение р < 0,05)"
   ]
  },
  {
   "cell_type": "markdown",
   "id": "b36dd14f-cd82-46c1-87de-cde64db77940",
   "metadata": {
    "id": "b36dd14f-cd82-46c1-87de-cde64db77940",
    "papermill": {
     "duration": 0.106947,
     "end_time": "2022-09-17T00:13:02.034149",
     "exception": false,
     "start_time": "2022-09-17T00:13:01.927202",
     "status": "completed"
    },
    "tags": []
   },
   "source": [
    "## Датасет"
   ]
  },
  {
   "cell_type": "markdown",
   "id": "ab7d97da-ee9e-4cd5-8d01-f75481a99393",
   "metadata": {
    "id": "ab7d97da-ee9e-4cd5-8d01-f75481a99393"
   },
   "source": [
    "Как данные представлены заказчиком:"
   ]
  },
  {
   "cell_type": "markdown",
   "id": "746dd87c-32f5-4ee4-97f3-ace09b9661ae",
   "metadata": {
    "id": "746dd87c-32f5-4ee4-97f3-ace09b9661ae",
    "papermill": {
     "duration": 0.107761,
     "end_time": "2022-09-17T00:13:02.248931",
     "exception": false,
     "start_time": "2022-09-17T00:13:02.141170",
     "status": "completed"
    },
    "tags": []
   },
   "source": [
    "<table>\n",
    "<thead><tr>\n",
    "<th><strong>Feature Name</strong></th>\n",
    "<th><strong>Description</strong></th>\n",
    "<th><strong>Data Type</strong></th>\n",
    "</tr>\n",
    "</thead>\n",
    "<tbody>\n",
    "<tr>\n",
    "<td>customerID</td>\n",
    "<td>Содержит идентификатор клиента</td>\n",
    "<td>categorical</td>\n",
    "</tr>\n",
    "<tr>\n",
    "<td>gender</td>\n",
    "<td>Пол клиента</td>\n",
    "<td>categorical</td>\n",
    "</tr>\n",
    "<tr>\n",
    "<td>SeniorCitizen</td>\n",
    "<td>Является ли клиент пожилым гражданином</td>\n",
    "<td>numeric, int</td>\n",
    "</tr>\n",
    "<tr>\n",
    "<td>Partner</td>\n",
    "<td>Есть ли у клиента партнер</td>\n",
    "<td>categorical</td>\n",
    "</tr>\n",
    "<tr>\n",
    "<td>Dependents</td>\n",
    "<td>Является ли клиент кормильцем</td>\n",
    "<td>categorical</td>\n",
    "</tr>\n",
    "<tr>\n",
    "<td>tenure</td>\n",
    "<td>Количество месяцев, в течение которых клиент оставался в компании</td>\n",
    "<td>numeric, int</td>\n",
    "</tr>\n",
    "<tr>\n",
    "<td>PhoneService</td>\n",
    "<td>Есть ли у клиента телефонная связь</td>\n",
    "<td>categorical</td>\n",
    "</tr>\n",
    "<tr>\n",
    "<td>MultipleLines</td>\n",
    "<td>Есть ли у клиента несколько линий</td>\n",
    "<td>categorical</td>\n",
    "</tr>\n",
    "<tr>\n",
    "<td>InternetService</td>\n",
    "<td>Интернет-провайдер клиента</td>\n",
    "<td>categorical</td>\n",
    "</tr>\n",
    "<tr>\n",
    "<td>OnlineSecurity</td>\n",
    "<td>Есть ли у клиента онлайн-безопасность</td>\n",
    "<td>categorical</td>\n",
    "</tr>\n",
    "<tr>\n",
    "<td>OnlineBackup</td>\n",
    "<td>Есть ли у клиента онлайн-резервное копирование</td>\n",
    "<td>categorical</td>\n",
    "</tr>\n",
    "<tr>\n",
    "<td>DeviceProtection</td>\n",
    "<td>Имеет ли клиент защиту устройства</td>\n",
    "<td>categorical</td>\n",
    "</tr>\n",
    "<tr>\n",
    "<td>TechSupport</td>\n",
    "<td>Есть ли у клиента техническая поддержка</td>\n",
    "<td>categorical</td>\n",
    "</tr>\n",
    "<tr>\n",
    "<td>streamingTV</td>\n",
    "<td>Есть ли у клиента потоковое телевидение</td>\n",
    "<td>categorical</td>\n",
    "</tr>\n",
    "<tr>\n",
    "<td>streamingMovies</td>\n",
    "<td>Есть ли у клиента стриминговые сервисы</td>\n",
    "<td>categorical</td>\n",
    "</tr>\n",
    "<tr>\n",
    "<td>Contract</td>\n",
    "<td>Срок действия контракта заказчика</td>\n",
    "<td>categorical</td>\n",
    "</tr>\n",
    "<tr>\n",
    "<td>PaperlessBilling</td>\n",
    "<td>имеет ли клиент безналичные счета</td>\n",
    "<td>categorical</td>\n",
    "</tr>\n",
    "<tr>\n",
    "<td>PaymentMethod</td>\n",
    "<td>Способ оплаты клиента</td>\n",
    "<td>categorical</td>\n",
    "</tr>\n",
    "<tr>\n",
    "<td>MonthlyCharges</td>\n",
    "<td>Сумма, взимаемая с клиента ежемесячно </td>\n",
    "<td> numeric , int</td>\n",
    "</tr>\n",
    "<tr>\n",
    "<td>TotalCharges</td>\n",
    "<td>Общая сумма, списанная с клиента</td>\n",
    "<td>object</td>\n",
    "</tr>\n",
    "<tr>\n",
    "<td>Churn</td>\n",
    "<td>Ушел ли клиент</td>\n",
    "<td>categorical</td>\n",
    "</tr>\n",
    "</tbody>\n",
    "</table>"
   ]
  },
  {
   "cell_type": "markdown",
   "id": "08ae603f-bf76-4e2a-b7e0-cc8f4c48ea08",
   "metadata": {
    "id": "08ae603f-bf76-4e2a-b7e0-cc8f4c48ea08"
   },
   "source": [
    "Описание от заказчика:\n",
    "\n",
    "Каждая строка представляет клиента, каждый столбец содержит атрибуты клиента.\n",
    "\n",
    "Набор данных включает информацию :\n",
    "\n",
    "- Клиенты, которые ушли в течение последнего месяца — колонка называется `Churn`\n",
    "- Услуги, на которые подписался каждый клиент — телефон, несколько линий, интернет, онлайн-безопасность, резервное копирование, защита устройств, техническая поддержка, потоковое ТВ и фильмы.\n",
    "- Информация о счетах клиентов — как долго они являются клиентами, контракт, способ оплаты, безналичные счета, ежемесячные платежи и общая сумма платежей.\n",
    "- Демографическая информация о клиентах — пол, возраст, наличие партнеров и иждивенцев."
   ]
  },
  {
   "cell_type": "markdown",
   "id": "d5987f69",
   "metadata": {
    "id": "d5987f69",
    "papermill": {
     "duration": 0.104938,
     "end_time": "2022-09-17T00:12:58.405685",
     "exception": false,
     "start_time": "2022-09-17T00:12:58.300747",
     "status": "completed"
    },
    "tags": []
   },
   "source": [
    "## 1. Импорт Библиотек "
   ]
  },
  {
   "cell_type": "markdown",
   "id": "02b1ba32-c7a4-4cca-940c-2c26096652a5",
   "metadata": {
    "id": "02b1ba32-c7a4-4cca-940c-2c26096652a5"
   },
   "source": [
    "Импортируйте необходимые библиотеки"
   ]
  },
  {
   "cell_type": "code",
   "execution_count": 3,
   "outputs": [
    {
     "name": "stdout",
     "output_type": "stream",
     "text": [
      "Collecting scipy\r\n",
      "  Using cached scipy-1.10.1-cp310-cp310-manylinux_2_17_x86_64.manylinux2014_x86_64.whl (34.4 MB)\r\n",
      "Requirement already satisfied: numpy<1.27.0,>=1.19.5 in /home/maria/PycharmProjects/DS/venv/lib/python3.10/site-packages (from scipy) (1.24.3)\r\n",
      "Installing collected packages: scipy\r\n",
      "Successfully installed scipy-1.10.1\r\n",
      "\r\n",
      "\u001B[1m[\u001B[0m\u001B[34;49mnotice\u001B[0m\u001B[1;39;49m]\u001B[0m\u001B[39;49m A new release of pip available: \u001B[0m\u001B[31;49m22.3.1\u001B[0m\u001B[39;49m -> \u001B[0m\u001B[32;49m23.1.2\u001B[0m\r\n",
      "\u001B[1m[\u001B[0m\u001B[34;49mnotice\u001B[0m\u001B[1;39;49m]\u001B[0m\u001B[39;49m To update, run: \u001B[0m\u001B[32;49mpip install --upgrade pip\u001B[0m\r\n"
     ]
    }
   ],
   "source": [
    "!pip install scipy"
   ],
   "metadata": {
    "collapsed": false,
    "ExecuteTime": {
     "end_time": "2023-06-20T18:30:04.898389440Z",
     "start_time": "2023-06-20T18:29:57.813080955Z"
    }
   }
  },
  {
   "cell_type": "code",
   "execution_count": 4,
   "id": "aced3dd7",
   "metadata": {
    "_kg_hide-input": true,
    "id": "aced3dd7",
    "papermill": {
     "duration": 2.648922,
     "end_time": "2022-09-17T00:13:01.160303",
     "exception": false,
     "start_time": "2022-09-17T00:12:58.511381",
     "status": "completed"
    },
    "tags": [],
    "ExecuteTime": {
     "end_time": "2023-06-20T18:30:08.370323575Z",
     "start_time": "2023-06-20T18:30:07.784082160Z"
    }
   },
   "outputs": [],
   "source": [
    "import numpy as np\n",
    "import pandas as pd\n",
    "pd.set_option('display.max_columns', None) # отобразить все колонки\n",
    "\n",
    "from scipy import stats"
   ]
  },
  {
   "cell_type": "markdown",
   "id": "a08aba17",
   "metadata": {
    "id": "a08aba17",
    "papermill": {
     "duration": 0.105855,
     "end_time": "2022-09-17T00:13:01.597528",
     "exception": false,
     "start_time": "2022-09-17T00:13:01.491673",
     "status": "completed"
    },
    "tags": []
   },
   "source": [
    "## Данные"
   ]
  },
  {
   "cell_type": "code",
   "execution_count": 1,
   "id": "423cbac6",
   "metadata": {
    "id": "423cbac6",
    "papermill": {
     "duration": 0.24658,
     "end_time": "2022-09-17T00:13:02.607322",
     "exception": false,
     "start_time": "2022-09-17T00:13:02.360742",
     "status": "completed"
    },
    "tags": []
   },
   "outputs": [],
   "source": [
    "df = pd.read_csv(\"churn.csv\")\n",
    "df.head()"
   ]
  },
  {
   "cell_type": "markdown",
   "source": [
    "Приведение название колонок к корректным значениям по Pep8, т.е. snake_case."
   ],
   "metadata": {
    "collapsed": false
   }
  },
  {
   "cell_type": "code",
   "execution_count": 10,
   "outputs": [
    {
     "data": {
      "text/plain": "  customer_id  gender  senior_citizen partner dependents  tenure  \\\n0  7590-VHVEG  Female               0     Yes         No       1   \n1  5575-GNVDE    Male               0      No         No      34   \n2  3668-QPYBK    Male               0      No         No       2   \n3  7795-CFOCW    Male               0      No         No      45   \n4  9237-HQITU  Female               0      No         No       2   \n\n  phone_service    multiple_lines internet_service online_security  \\\n0            No  No phone service              DSL              No   \n1           Yes                No              DSL             Yes   \n2           Yes                No              DSL             Yes   \n3            No  No phone service              DSL             Yes   \n4           Yes                No      Fiber optic              No   \n\n  online_backup device_protection tech_support streaming_tv streaming_movies  \\\n0           Yes                No           No           No               No   \n1            No               Yes           No           No               No   \n2           Yes                No           No           No               No   \n3            No               Yes          Yes           No               No   \n4            No                No           No           No               No   \n\n         contract paperless_billing             payment_method  \\\n0  Month-to-month               Yes           Electronic check   \n1        One year                No               Mailed check   \n2  Month-to-month               Yes               Mailed check   \n3        One year                No  Bank transfer (automatic)   \n4  Month-to-month               Yes           Electronic check   \n\n   monthly_charges total_charges churn  \n0            29.85         29.85    No  \n1            56.95        1889.5    No  \n2            53.85        108.15   Yes  \n3            42.30       1840.75    No  \n4            70.70        151.65   Yes  ",
      "text/html": "<div>\n<style scoped>\n    .dataframe tbody tr th:only-of-type {\n        vertical-align: middle;\n    }\n\n    .dataframe tbody tr th {\n        vertical-align: top;\n    }\n\n    .dataframe thead th {\n        text-align: right;\n    }\n</style>\n<table border=\"1\" class=\"dataframe\">\n  <thead>\n    <tr style=\"text-align: right;\">\n      <th></th>\n      <th>customer_id</th>\n      <th>gender</th>\n      <th>senior_citizen</th>\n      <th>partner</th>\n      <th>dependents</th>\n      <th>tenure</th>\n      <th>phone_service</th>\n      <th>multiple_lines</th>\n      <th>internet_service</th>\n      <th>online_security</th>\n      <th>online_backup</th>\n      <th>device_protection</th>\n      <th>tech_support</th>\n      <th>streaming_tv</th>\n      <th>streaming_movies</th>\n      <th>contract</th>\n      <th>paperless_billing</th>\n      <th>payment_method</th>\n      <th>monthly_charges</th>\n      <th>total_charges</th>\n      <th>churn</th>\n    </tr>\n  </thead>\n  <tbody>\n    <tr>\n      <th>0</th>\n      <td>7590-VHVEG</td>\n      <td>Female</td>\n      <td>0</td>\n      <td>Yes</td>\n      <td>No</td>\n      <td>1</td>\n      <td>No</td>\n      <td>No phone service</td>\n      <td>DSL</td>\n      <td>No</td>\n      <td>Yes</td>\n      <td>No</td>\n      <td>No</td>\n      <td>No</td>\n      <td>No</td>\n      <td>Month-to-month</td>\n      <td>Yes</td>\n      <td>Electronic check</td>\n      <td>29.85</td>\n      <td>29.85</td>\n      <td>No</td>\n    </tr>\n    <tr>\n      <th>1</th>\n      <td>5575-GNVDE</td>\n      <td>Male</td>\n      <td>0</td>\n      <td>No</td>\n      <td>No</td>\n      <td>34</td>\n      <td>Yes</td>\n      <td>No</td>\n      <td>DSL</td>\n      <td>Yes</td>\n      <td>No</td>\n      <td>Yes</td>\n      <td>No</td>\n      <td>No</td>\n      <td>No</td>\n      <td>One year</td>\n      <td>No</td>\n      <td>Mailed check</td>\n      <td>56.95</td>\n      <td>1889.5</td>\n      <td>No</td>\n    </tr>\n    <tr>\n      <th>2</th>\n      <td>3668-QPYBK</td>\n      <td>Male</td>\n      <td>0</td>\n      <td>No</td>\n      <td>No</td>\n      <td>2</td>\n      <td>Yes</td>\n      <td>No</td>\n      <td>DSL</td>\n      <td>Yes</td>\n      <td>Yes</td>\n      <td>No</td>\n      <td>No</td>\n      <td>No</td>\n      <td>No</td>\n      <td>Month-to-month</td>\n      <td>Yes</td>\n      <td>Mailed check</td>\n      <td>53.85</td>\n      <td>108.15</td>\n      <td>Yes</td>\n    </tr>\n    <tr>\n      <th>3</th>\n      <td>7795-CFOCW</td>\n      <td>Male</td>\n      <td>0</td>\n      <td>No</td>\n      <td>No</td>\n      <td>45</td>\n      <td>No</td>\n      <td>No phone service</td>\n      <td>DSL</td>\n      <td>Yes</td>\n      <td>No</td>\n      <td>Yes</td>\n      <td>Yes</td>\n      <td>No</td>\n      <td>No</td>\n      <td>One year</td>\n      <td>No</td>\n      <td>Bank transfer (automatic)</td>\n      <td>42.30</td>\n      <td>1840.75</td>\n      <td>No</td>\n    </tr>\n    <tr>\n      <th>4</th>\n      <td>9237-HQITU</td>\n      <td>Female</td>\n      <td>0</td>\n      <td>No</td>\n      <td>No</td>\n      <td>2</td>\n      <td>Yes</td>\n      <td>No</td>\n      <td>Fiber optic</td>\n      <td>No</td>\n      <td>No</td>\n      <td>No</td>\n      <td>No</td>\n      <td>No</td>\n      <td>No</td>\n      <td>Month-to-month</td>\n      <td>Yes</td>\n      <td>Electronic check</td>\n      <td>70.70</td>\n      <td>151.65</td>\n      <td>Yes</td>\n    </tr>\n  </tbody>\n</table>\n</div>"
     },
     "execution_count": 10,
     "metadata": {},
     "output_type": "execute_result"
    }
   ],
   "source": [
    "# импорт библиотеки регулярных выражений\n",
    "import re\n",
    "\n",
    "column_names = list(df.columns)\n",
    "lower_column_names = []\n",
    "for word in column_names:\n",
    "    lower_column_names.append(re.sub('(?<!^)(?=[A-Z])', '_', word, count=1).lower())\n",
    "\n",
    "df.columns = lower_column_names\n",
    "df.head()"
   ],
   "metadata": {
    "collapsed": false,
    "ExecuteTime": {
     "end_time": "2023-06-21T05:42:14.675328109Z",
     "start_time": "2023-06-21T05:42:14.518730188Z"
    }
   }
  },
  {
   "cell_type": "markdown",
   "id": "59d8f6d7",
   "metadata": {
    "id": "59d8f6d7",
    "papermill": {
     "duration": 0.110182,
     "end_time": "2022-09-17T00:13:04.215152",
     "exception": false,
     "start_time": "2022-09-17T00:13:04.104970",
     "status": "completed"
    },
    "tags": []
   },
   "source": [
    "## 2. Описательный анализ данных"
   ]
  },
  {
   "cell_type": "markdown",
   "id": "4f3a9143-db55-4062-92c1-95bae165c967",
   "metadata": {
    "id": "4f3a9143-db55-4062-92c1-95bae165c967"
   },
   "source": [
    "Рассмотрите данные — изучите медианы, средние, дисперсии и т.д. \n",
    "\n",
    "Что можете сказать о данных? Сделайте вывод."
   ]
  },
  {
   "cell_type": "code",
   "execution_count": 11,
   "outputs": [
    {
     "data": {
      "text/plain": "     customer_id  gender  senior_citizen partner dependents  tenure  \\\n488   4472-LVYGI  Female               0     Yes        Yes       0   \n753   3115-CZMZD    Male               0      No        Yes       0   \n936   5709-LVOEQ  Female               0     Yes        Yes       0   \n1082  4367-NUYAO    Male               0     Yes        Yes       0   \n1340  1371-DWPAZ  Female               0     Yes        Yes       0   \n\n     phone_service    multiple_lines internet_service      online_security  \\\n488             No  No phone service              DSL                  Yes   \n753            Yes                No               No  No internet service   \n936            Yes                No              DSL                  Yes   \n1082           Yes               Yes               No  No internet service   \n1340            No  No phone service              DSL                  Yes   \n\n            online_backup    device_protection         tech_support  \\\n488                    No                  Yes                  Yes   \n753   No internet service  No internet service  No internet service   \n936                   Yes                  Yes                   No   \n1082  No internet service  No internet service  No internet service   \n1340                  Yes                  Yes                  Yes   \n\n             streaming_tv     streaming_movies  contract paperless_billing  \\\n488                   Yes                   No  Two year               Yes   \n753   No internet service  No internet service  Two year                No   \n936                   Yes                  Yes  Two year                No   \n1082  No internet service  No internet service  Two year                No   \n1340                  Yes                   No  Two year                No   \n\n                 payment_method  monthly_charges total_charges churn  \n488   Bank transfer (automatic)            52.55                  No  \n753                Mailed check            20.25                  No  \n936                Mailed check            80.85                  No  \n1082               Mailed check            25.75                  No  \n1340    Credit card (automatic)            56.05                  No  ",
      "text/html": "<div>\n<style scoped>\n    .dataframe tbody tr th:only-of-type {\n        vertical-align: middle;\n    }\n\n    .dataframe tbody tr th {\n        vertical-align: top;\n    }\n\n    .dataframe thead th {\n        text-align: right;\n    }\n</style>\n<table border=\"1\" class=\"dataframe\">\n  <thead>\n    <tr style=\"text-align: right;\">\n      <th></th>\n      <th>customer_id</th>\n      <th>gender</th>\n      <th>senior_citizen</th>\n      <th>partner</th>\n      <th>dependents</th>\n      <th>tenure</th>\n      <th>phone_service</th>\n      <th>multiple_lines</th>\n      <th>internet_service</th>\n      <th>online_security</th>\n      <th>online_backup</th>\n      <th>device_protection</th>\n      <th>tech_support</th>\n      <th>streaming_tv</th>\n      <th>streaming_movies</th>\n      <th>contract</th>\n      <th>paperless_billing</th>\n      <th>payment_method</th>\n      <th>monthly_charges</th>\n      <th>total_charges</th>\n      <th>churn</th>\n    </tr>\n  </thead>\n  <tbody>\n    <tr>\n      <th>488</th>\n      <td>4472-LVYGI</td>\n      <td>Female</td>\n      <td>0</td>\n      <td>Yes</td>\n      <td>Yes</td>\n      <td>0</td>\n      <td>No</td>\n      <td>No phone service</td>\n      <td>DSL</td>\n      <td>Yes</td>\n      <td>No</td>\n      <td>Yes</td>\n      <td>Yes</td>\n      <td>Yes</td>\n      <td>No</td>\n      <td>Two year</td>\n      <td>Yes</td>\n      <td>Bank transfer (automatic)</td>\n      <td>52.55</td>\n      <td></td>\n      <td>No</td>\n    </tr>\n    <tr>\n      <th>753</th>\n      <td>3115-CZMZD</td>\n      <td>Male</td>\n      <td>0</td>\n      <td>No</td>\n      <td>Yes</td>\n      <td>0</td>\n      <td>Yes</td>\n      <td>No</td>\n      <td>No</td>\n      <td>No internet service</td>\n      <td>No internet service</td>\n      <td>No internet service</td>\n      <td>No internet service</td>\n      <td>No internet service</td>\n      <td>No internet service</td>\n      <td>Two year</td>\n      <td>No</td>\n      <td>Mailed check</td>\n      <td>20.25</td>\n      <td></td>\n      <td>No</td>\n    </tr>\n    <tr>\n      <th>936</th>\n      <td>5709-LVOEQ</td>\n      <td>Female</td>\n      <td>0</td>\n      <td>Yes</td>\n      <td>Yes</td>\n      <td>0</td>\n      <td>Yes</td>\n      <td>No</td>\n      <td>DSL</td>\n      <td>Yes</td>\n      <td>Yes</td>\n      <td>Yes</td>\n      <td>No</td>\n      <td>Yes</td>\n      <td>Yes</td>\n      <td>Two year</td>\n      <td>No</td>\n      <td>Mailed check</td>\n      <td>80.85</td>\n      <td></td>\n      <td>No</td>\n    </tr>\n    <tr>\n      <th>1082</th>\n      <td>4367-NUYAO</td>\n      <td>Male</td>\n      <td>0</td>\n      <td>Yes</td>\n      <td>Yes</td>\n      <td>0</td>\n      <td>Yes</td>\n      <td>Yes</td>\n      <td>No</td>\n      <td>No internet service</td>\n      <td>No internet service</td>\n      <td>No internet service</td>\n      <td>No internet service</td>\n      <td>No internet service</td>\n      <td>No internet service</td>\n      <td>Two year</td>\n      <td>No</td>\n      <td>Mailed check</td>\n      <td>25.75</td>\n      <td></td>\n      <td>No</td>\n    </tr>\n    <tr>\n      <th>1340</th>\n      <td>1371-DWPAZ</td>\n      <td>Female</td>\n      <td>0</td>\n      <td>Yes</td>\n      <td>Yes</td>\n      <td>0</td>\n      <td>No</td>\n      <td>No phone service</td>\n      <td>DSL</td>\n      <td>Yes</td>\n      <td>Yes</td>\n      <td>Yes</td>\n      <td>Yes</td>\n      <td>Yes</td>\n      <td>No</td>\n      <td>Two year</td>\n      <td>No</td>\n      <td>Credit card (automatic)</td>\n      <td>56.05</td>\n      <td></td>\n      <td>No</td>\n    </tr>\n  </tbody>\n</table>\n</div>"
     },
     "execution_count": 11,
     "metadata": {},
     "output_type": "execute_result"
    }
   ],
   "source": [
    "# вывод строк, где имеются пробелы\n",
    "df.loc[df['total_charges'] == ' '].head()"
   ],
   "metadata": {
    "collapsed": false,
    "ExecuteTime": {
     "end_time": "2023-06-21T05:44:45.787307975Z",
     "start_time": "2023-06-21T05:44:45.700924045Z"
    }
   }
  },
  {
   "cell_type": "markdown",
   "source": [
    "Строки с пробелами представляют новых клиентов, которые ничего еще не платили. Их целесообразно заполнить нулями"
   ],
   "metadata": {
    "collapsed": false
   }
  },
  {
   "cell_type": "code",
   "execution_count": 12,
   "outputs": [],
   "source": [
    "# заполнение строк нулямми\n",
    "df.loc[df['total_charges'] == ' ', 'total_charges'] = 0\n",
    "\n",
    "# приведение знаение total_charges к float\n",
    "df.total_charges = df.total_charges.astype(float)"
   ],
   "metadata": {
    "collapsed": false,
    "ExecuteTime": {
     "end_time": "2023-06-21T05:50:03.199537816Z",
     "start_time": "2023-06-21T05:50:03.166426675Z"
    }
   }
  },
  {
   "cell_type": "code",
   "execution_count": 13,
   "id": "103b2699-e4bd-46b4-a287-d4e70ad26878",
   "metadata": {
    "id": "103b2699-e4bd-46b4-a287-d4e70ad26878",
    "ExecuteTime": {
     "end_time": "2023-06-21T05:50:06.115804307Z",
     "start_time": "2023-06-21T05:50:06.049012372Z"
    }
   },
   "outputs": [
    {
     "data": {
      "text/plain": "       senior_citizen       tenure  monthly_charges  total_charges\ncount     7043.000000  7043.000000      7043.000000    7043.000000\nmean         0.162147    32.371149        64.761692    2279.734304\nstd          0.368612    24.559481        30.090047    2266.794470\nmin          0.000000     0.000000        18.250000       0.000000\n25%          0.000000     9.000000        35.500000     398.550000\n50%          0.000000    29.000000        70.350000    1394.550000\n75%          0.000000    55.000000        89.850000    3786.600000\nmax          1.000000    72.000000       118.750000    8684.800000",
      "text/html": "<div>\n<style scoped>\n    .dataframe tbody tr th:only-of-type {\n        vertical-align: middle;\n    }\n\n    .dataframe tbody tr th {\n        vertical-align: top;\n    }\n\n    .dataframe thead th {\n        text-align: right;\n    }\n</style>\n<table border=\"1\" class=\"dataframe\">\n  <thead>\n    <tr style=\"text-align: right;\">\n      <th></th>\n      <th>senior_citizen</th>\n      <th>tenure</th>\n      <th>monthly_charges</th>\n      <th>total_charges</th>\n    </tr>\n  </thead>\n  <tbody>\n    <tr>\n      <th>count</th>\n      <td>7043.000000</td>\n      <td>7043.000000</td>\n      <td>7043.000000</td>\n      <td>7043.000000</td>\n    </tr>\n    <tr>\n      <th>mean</th>\n      <td>0.162147</td>\n      <td>32.371149</td>\n      <td>64.761692</td>\n      <td>2279.734304</td>\n    </tr>\n    <tr>\n      <th>std</th>\n      <td>0.368612</td>\n      <td>24.559481</td>\n      <td>30.090047</td>\n      <td>2266.794470</td>\n    </tr>\n    <tr>\n      <th>min</th>\n      <td>0.000000</td>\n      <td>0.000000</td>\n      <td>18.250000</td>\n      <td>0.000000</td>\n    </tr>\n    <tr>\n      <th>25%</th>\n      <td>0.000000</td>\n      <td>9.000000</td>\n      <td>35.500000</td>\n      <td>398.550000</td>\n    </tr>\n    <tr>\n      <th>50%</th>\n      <td>0.000000</td>\n      <td>29.000000</td>\n      <td>70.350000</td>\n      <td>1394.550000</td>\n    </tr>\n    <tr>\n      <th>75%</th>\n      <td>0.000000</td>\n      <td>55.000000</td>\n      <td>89.850000</td>\n      <td>3786.600000</td>\n    </tr>\n    <tr>\n      <th>max</th>\n      <td>1.000000</td>\n      <td>72.000000</td>\n      <td>118.750000</td>\n      <td>8684.800000</td>\n    </tr>\n  </tbody>\n</table>\n</div>"
     },
     "execution_count": 13,
     "metadata": {},
     "output_type": "execute_result"
    }
   ],
   "source": [
    "df.describe()"
   ]
  },
  {
   "cell_type": "markdown",
   "source": [
    "Выведем в процентном соотношение пожилых людей"
   ],
   "metadata": {
    "collapsed": false
   }
  },
  {
   "cell_type": "code",
   "execution_count": 15,
   "outputs": [
    {
     "data": {
      "text/plain": "senior_citizen\n0    83.785319\n1    16.214681\nName: count, dtype: float64"
     },
     "execution_count": 15,
     "metadata": {},
     "output_type": "execute_result"
    }
   ],
   "source": [
    "df.senior_citizen.value_counts()/df.shape[0]*100"
   ],
   "metadata": {
    "collapsed": false,
    "ExecuteTime": {
     "end_time": "2023-06-21T05:52:16.148148958Z",
     "start_time": "2023-06-21T05:52:16.093644976Z"
    }
   }
  },
  {
   "cell_type": "code",
   "execution_count": 20,
   "outputs": [
    {
     "data": {
      "text/plain": "gender\nMale      3555\nFemale    3488\nName: count, dtype: int64"
     },
     "execution_count": 20,
     "metadata": {},
     "output_type": "execute_result"
    }
   ],
   "source": [
    "# выведем количество мужчин и женщин\n",
    "df.gender.value_counts()"
   ],
   "metadata": {
    "collapsed": false,
    "ExecuteTime": {
     "end_time": "2023-06-21T06:01:18.075364988Z",
     "start_time": "2023-06-21T06:01:18.031154196Z"
    }
   }
  },
  {
   "cell_type": "markdown",
   "source": [
    "df.gender.value_counts()/df.shape['Male']*100"
   ],
   "metadata": {
    "collapsed": false
   }
  },
  {
   "cell_type": "markdown",
   "id": "1daff97f-7552-4abb-918f-39fdda6d078e",
   "metadata": {
    "id": "1daff97f-7552-4abb-918f-39fdda6d078e"
   },
   "source": [
    "**Вывод:**\n",
    "1. Среди клиентов 16 процентов пожилых.\n",
    "2. Мужчин незначительно больше, чем женщин\n",
    "3. Если проанализировать общую сумму, списанную с клиента, то в данном случае и медианное значение и среднее арифметическое будут практически равны. Это говорит о том, что сильных выбросов относительно общей картины не наблюдается, несмотря на то, что сумма, списываемая с клиента ежемесячно по отношению к показателямм медианы и среднего - разнятся.\n",
    "4. Также разнится сильно количество месяцев, в течении которого клиент оставался в компании. И это нормально, поскольку есть много клиентов, которые только зарегистрировались, есть много тех, кто работает с компанием давно. Это говорит о том, что датасет охватывает большой промежуток времени, что может положительно сказаться на различных прогнозах и построении моделей."
   ]
  },
  {
   "cell_type": "markdown",
   "source": [],
   "metadata": {
    "collapsed": false
   }
  },
  {
   "cell_type": "markdown",
   "id": "20dfbfdf",
   "metadata": {
    "id": "20dfbfdf",
    "papermill": {
     "duration": 0.109572,
     "end_time": "2022-09-17T00:13:04.713273",
     "exception": false,
     "start_time": "2022-09-17T00:13:04.603701",
     "status": "completed"
    },
    "tags": []
   },
   "source": [
    "### Уникальные значения для всех столбцов"
   ]
  },
  {
   "cell_type": "markdown",
   "id": "6dae3e7e-2d2d-48f4-a815-12203933284b",
   "metadata": {
    "tags": [],
    "id": "6dae3e7e-2d2d-48f4-a815-12203933284b"
   },
   "source": [
    "Рассмотрите уникальные значения категориальных признаков. \n",
    "\n",
    "Сделайте вывод.\n",
    "\n",
    "**Подсказка:** можете воспользоваться методом `describe(include='object')`"
   ]
  },
  {
   "cell_type": "code",
   "execution_count": 34,
   "id": "8fdc1546-6a9b-4dc8-afdc-fca1fd637ded",
   "metadata": {
    "id": "8fdc1546-6a9b-4dc8-afdc-fca1fd637ded",
    "ExecuteTime": {
     "end_time": "2023-06-21T06:21:39.884085332Z",
     "start_time": "2023-06-21T06:21:39.800917629Z"
    }
   },
   "outputs": [
    {
     "data": {
      "text/plain": "                  count unique               top  freq\ncustomer_id        7043   7043        7590-VHVEG     1\ngender             7043      2              Male  3555\npartner            7043      2                No  3641\ndependents         7043      2                No  4933\nphone_service      7043      2               Yes  6361\nmultiple_lines     7043      3                No  3390\ninternet_service   7043      3       Fiber optic  3096\nonline_security    7043      3                No  3498\nonline_backup      7043      3                No  3088\ndevice_protection  7043      3                No  3095\ntech_support       7043      3                No  3473\nstreaming_tv       7043      3                No  2810\nstreaming_movies   7043      3                No  2785\ncontract           7043      3    Month-to-month  3875\npaperless_billing  7043      2               Yes  4171\npayment_method     7043      4  Electronic check  2365\nchurn              7043      2                No  5174",
      "text/html": "<div>\n<style scoped>\n    .dataframe tbody tr th:only-of-type {\n        vertical-align: middle;\n    }\n\n    .dataframe tbody tr th {\n        vertical-align: top;\n    }\n\n    .dataframe thead th {\n        text-align: right;\n    }\n</style>\n<table border=\"1\" class=\"dataframe\">\n  <thead>\n    <tr style=\"text-align: right;\">\n      <th></th>\n      <th>count</th>\n      <th>unique</th>\n      <th>top</th>\n      <th>freq</th>\n    </tr>\n  </thead>\n  <tbody>\n    <tr>\n      <th>customer_id</th>\n      <td>7043</td>\n      <td>7043</td>\n      <td>7590-VHVEG</td>\n      <td>1</td>\n    </tr>\n    <tr>\n      <th>gender</th>\n      <td>7043</td>\n      <td>2</td>\n      <td>Male</td>\n      <td>3555</td>\n    </tr>\n    <tr>\n      <th>partner</th>\n      <td>7043</td>\n      <td>2</td>\n      <td>No</td>\n      <td>3641</td>\n    </tr>\n    <tr>\n      <th>dependents</th>\n      <td>7043</td>\n      <td>2</td>\n      <td>No</td>\n      <td>4933</td>\n    </tr>\n    <tr>\n      <th>phone_service</th>\n      <td>7043</td>\n      <td>2</td>\n      <td>Yes</td>\n      <td>6361</td>\n    </tr>\n    <tr>\n      <th>multiple_lines</th>\n      <td>7043</td>\n      <td>3</td>\n      <td>No</td>\n      <td>3390</td>\n    </tr>\n    <tr>\n      <th>internet_service</th>\n      <td>7043</td>\n      <td>3</td>\n      <td>Fiber optic</td>\n      <td>3096</td>\n    </tr>\n    <tr>\n      <th>online_security</th>\n      <td>7043</td>\n      <td>3</td>\n      <td>No</td>\n      <td>3498</td>\n    </tr>\n    <tr>\n      <th>online_backup</th>\n      <td>7043</td>\n      <td>3</td>\n      <td>No</td>\n      <td>3088</td>\n    </tr>\n    <tr>\n      <th>device_protection</th>\n      <td>7043</td>\n      <td>3</td>\n      <td>No</td>\n      <td>3095</td>\n    </tr>\n    <tr>\n      <th>tech_support</th>\n      <td>7043</td>\n      <td>3</td>\n      <td>No</td>\n      <td>3473</td>\n    </tr>\n    <tr>\n      <th>streaming_tv</th>\n      <td>7043</td>\n      <td>3</td>\n      <td>No</td>\n      <td>2810</td>\n    </tr>\n    <tr>\n      <th>streaming_movies</th>\n      <td>7043</td>\n      <td>3</td>\n      <td>No</td>\n      <td>2785</td>\n    </tr>\n    <tr>\n      <th>contract</th>\n      <td>7043</td>\n      <td>3</td>\n      <td>Month-to-month</td>\n      <td>3875</td>\n    </tr>\n    <tr>\n      <th>paperless_billing</th>\n      <td>7043</td>\n      <td>2</td>\n      <td>Yes</td>\n      <td>4171</td>\n    </tr>\n    <tr>\n      <th>payment_method</th>\n      <td>7043</td>\n      <td>4</td>\n      <td>Electronic check</td>\n      <td>2365</td>\n    </tr>\n    <tr>\n      <th>churn</th>\n      <td>7043</td>\n      <td>2</td>\n      <td>No</td>\n      <td>5174</td>\n    </tr>\n  </tbody>\n</table>\n</div>"
     },
     "execution_count": 34,
     "metadata": {},
     "output_type": "execute_result"
    }
   ],
   "source": [
    "df.describe(include='object').T"
   ]
  },
  {
   "cell_type": "markdown",
   "id": "31dd4378-da15-45df-94a6-2e6d9466b368",
   "metadata": {
    "id": "31dd4378-da15-45df-94a6-2e6d9466b368"
   },
   "source": [
    "**Вывод:**\n",
    "1. При том, что всего значений 7043 можно сделать вывод о равномерном распределении осносительно гендерного признака, о наличии партнера (у половины примерно есть), о наличии нескольких линий у клиентов (у половины есть), о наличии онлайн-безопасности (у половины есть).\n",
    "2. Чаще всего люди предпочитают Fiberic optic в качестве интернет-провайдера.\n",
    "3. У подавляющего большинства имеется телефон. Есть вероятность в некорректности данных, относительно наличия телефона. Тут можно проанализировать данный столбец и при необходимости заменить значения тем, который чаще всего встречается. Но, я думаю, на данном этапе это не требуется."
   ]
  },
  {
   "cell_type": "markdown",
   "id": "71169f8f-3bf5-498c-8844-ec8e47c232a4",
   "metadata": {
    "id": "71169f8f-3bf5-498c-8844-ec8e47c232a4",
    "papermill": {
     "duration": 0.107391,
     "end_time": "2022-09-17T00:13:03.296525",
     "exception": false,
     "start_time": "2022-09-17T00:13:03.189134",
     "status": "completed"
    },
    "tags": []
   },
   "source": [
    "## 3. Предобработка данных"
   ]
  },
  {
   "cell_type": "markdown",
   "id": "0a01fab1-c07b-46b0-a2d2-e8939670ed1d",
   "metadata": {
    "id": "0a01fab1-c07b-46b0-a2d2-e8939670ed1d",
    "papermill": {
     "duration": 0.110418,
     "end_time": "2022-09-17T00:13:05.443495",
     "exception": false,
     "start_time": "2022-09-17T00:13:05.333077",
     "status": "completed"
    },
    "tags": []
   },
   "source": [
    "### Дубликаты"
   ]
  },
  {
   "cell_type": "markdown",
   "id": "e30c5d7d-10fe-4889-9156-e89b3ac80e9f",
   "metadata": {
    "id": "e30c5d7d-10fe-4889-9156-e89b3ac80e9f"
   },
   "source": [
    "Предобработайте датасет — проверьте на наличие дубликатов и удалите, если они есть."
   ]
  },
  {
   "cell_type": "code",
   "execution_count": 27,
   "id": "719cd83b-60bd-4da9-81c4-0c22893b3e47",
   "metadata": {
    "id": "719cd83b-60bd-4da9-81c4-0c22893b3e47",
    "ExecuteTime": {
     "end_time": "2023-06-21T06:20:20.304393800Z",
     "start_time": "2023-06-21T06:20:20.260879732Z"
    }
   },
   "outputs": [
    {
     "data": {
      "text/plain": "0"
     },
     "execution_count": 27,
     "metadata": {},
     "output_type": "execute_result"
    }
   ],
   "source": [
    "# удаляем дубликаы и выводим сумму\n",
    "df.duplicated().sum()"
   ]
  },
  {
   "cell_type": "markdown",
   "id": "8e8f7fbc",
   "metadata": {
    "id": "8e8f7fbc",
    "papermill": {
     "duration": 0.110418,
     "end_time": "2022-09-17T00:13:05.443495",
     "exception": false,
     "start_time": "2022-09-17T00:13:05.333077",
     "status": "completed"
    },
    "tags": []
   },
   "source": [
    "### Отсутствующие значения"
   ]
  },
  {
   "cell_type": "markdown",
   "id": "cefe6e59-bbf6-409f-bc89-299984ccf9ec",
   "metadata": {
    "id": "cefe6e59-bbf6-409f-bc89-299984ccf9ec"
   },
   "source": [
    "Пояснение к данному датасету:\n",
    "\n",
    "Не всегда в данных есть явные пропуски, которые легко индексируются средствами Pandas. К сожалению, бывают проблемы с выгрузками данных, некачественными источниками, или, когда данные записываются вручную — часто присутствует человеческий фактор. По мере работы с новыми данными лучше проверять на наличие таких данных, иначе из-за этого исследование может исказиться.\n",
    "\n",
    "Рассмотрим такой случай:"
   ]
  },
  {
   "cell_type": "code",
   "execution_count": 35,
   "id": "3493172e",
   "metadata": {
    "id": "3493172e",
    "papermill": {
     "duration": 0.127904,
     "end_time": "2022-09-17T00:13:05.681445",
     "exception": false,
     "start_time": "2022-09-17T00:13:05.553541",
     "status": "completed"
    },
    "tags": [],
    "ExecuteTime": {
     "end_time": "2023-06-21T06:21:46.016162959Z",
     "start_time": "2023-06-21T06:21:45.940777334Z"
    }
   },
   "outputs": [
    {
     "data": {
      "text/plain": "customer_id          0\ngender               0\nsenior_citizen       0\npartner              0\ndependents           0\ntenure               0\nphone_service        0\nmultiple_lines       0\ninternet_service     0\nonline_security      0\nonline_backup        0\ndevice_protection    0\ntech_support         0\nstreaming_tv         0\nstreaming_movies     0\ncontract             0\npaperless_billing    0\npayment_method       0\nmonthly_charges      0\ntotal_charges        0\nchurn                0\ndtype: int64"
     },
     "execution_count": 35,
     "metadata": {},
     "output_type": "execute_result"
    }
   ],
   "source": [
    "df.isna().sum()"
   ]
  },
  {
   "cell_type": "markdown",
   "id": "9262f68f-8d27-4794-ab21-327484d502ac",
   "metadata": {
    "id": "9262f68f-8d27-4794-ab21-327484d502ac"
   },
   "source": [
    "Да, не видно пропусков. Но почему тогда столбец `TotalCharges` не отобразился изначально как числовой столбец?\n",
    "\n",
    "Проверим все столбцы:"
   ]
  },
  {
   "cell_type": "code",
   "execution_count": 36,
   "id": "c086249f",
   "metadata": {
    "id": "c086249f",
    "papermill": {
     "duration": 0.212036,
     "end_time": "2022-09-17T00:13:06.005380",
     "exception": false,
     "start_time": "2022-09-17T00:13:05.793344",
     "status": "completed"
    },
    "tags": [],
    "ExecuteTime": {
     "end_time": "2023-06-21T06:21:51.872731833Z",
     "start_time": "2023-06-21T06:21:51.796097850Z"
    }
   },
   "outputs": [],
   "source": [
    "for col in df:\n",
    "    if df[col].dtype == 'object':\n",
    "        nans = df[col].apply(lambda x: len(x.strip())==0).sum()\n",
    "        if nans > 0:\n",
    "            print(f'Неявные пропуски столбца {col}:', df[col].apply(lambda x: len(x.strip())==0).sum())"
   ]
  },
  {
   "cell_type": "markdown",
   "id": "d9751428-4425-4a69-a8b9-0d8be7bdda21",
   "metadata": {
    "id": "d9751428-4425-4a69-a8b9-0d8be7bdda21"
   },
   "source": [
    "Что мы можем сделать в таком случае?\n",
    "\n",
    "1) По этому же фильтру удалить строки с пропусками, чтобы не искажать данные\n",
    "2) Перевести тип столбца на числовой с параметром `errors = 'coerce'` и удалить\n",
    "\n",
    "Но можно не удалять, чтобы не потерять данные, а:\n",
    "\n",
    "1) Заменить значения на другое\n",
    "2) Поменять на другое — но только в том случае, если есть какая-то зависимость в данных.\n",
    "\n",
    "Давайте изменим тип и найдем зависимость:"
   ]
  },
  {
   "cell_type": "code",
   "execution_count": 38,
   "id": "32c7fbb7-ea06-491f-9629-525175141ed2",
   "metadata": {
    "tags": [],
    "id": "32c7fbb7-ea06-491f-9629-525175141ed2",
    "ExecuteTime": {
     "end_time": "2023-06-21T06:23:02.218492741Z",
     "start_time": "2023-06-21T06:23:02.190272983Z"
    }
   },
   "outputs": [
    {
     "data": {
      "text/plain": "Empty DataFrame\nColumns: []\nIndex: [customer_id, gender, senior_citizen, partner, dependents, tenure, phone_service, multiple_lines, internet_service, online_security, online_backup, device_protection, tech_support, streaming_tv, streaming_movies, contract, paperless_billing, payment_method, monthly_charges, total_charges, churn]",
      "text/html": "<div>\n<style scoped>\n    .dataframe tbody tr th:only-of-type {\n        vertical-align: middle;\n    }\n\n    .dataframe tbody tr th {\n        vertical-align: top;\n    }\n\n    .dataframe thead th {\n        text-align: right;\n    }\n</style>\n<table border=\"1\" class=\"dataframe\">\n  <thead>\n    <tr style=\"text-align: right;\">\n      <th></th>\n    </tr>\n  </thead>\n  <tbody>\n    <tr>\n      <th>customer_id</th>\n    </tr>\n    <tr>\n      <th>gender</th>\n    </tr>\n    <tr>\n      <th>senior_citizen</th>\n    </tr>\n    <tr>\n      <th>partner</th>\n    </tr>\n    <tr>\n      <th>dependents</th>\n    </tr>\n    <tr>\n      <th>tenure</th>\n    </tr>\n    <tr>\n      <th>phone_service</th>\n    </tr>\n    <tr>\n      <th>multiple_lines</th>\n    </tr>\n    <tr>\n      <th>internet_service</th>\n    </tr>\n    <tr>\n      <th>online_security</th>\n    </tr>\n    <tr>\n      <th>online_backup</th>\n    </tr>\n    <tr>\n      <th>device_protection</th>\n    </tr>\n    <tr>\n      <th>tech_support</th>\n    </tr>\n    <tr>\n      <th>streaming_tv</th>\n    </tr>\n    <tr>\n      <th>streaming_movies</th>\n    </tr>\n    <tr>\n      <th>contract</th>\n    </tr>\n    <tr>\n      <th>paperless_billing</th>\n    </tr>\n    <tr>\n      <th>payment_method</th>\n    </tr>\n    <tr>\n      <th>monthly_charges</th>\n    </tr>\n    <tr>\n      <th>total_charges</th>\n    </tr>\n    <tr>\n      <th>churn</th>\n    </tr>\n  </tbody>\n</table>\n</div>"
     },
     "execution_count": 38,
     "metadata": {},
     "output_type": "execute_result"
    }
   ],
   "source": [
    "df[\"total_charges\"] = pd.to_numeric(df[\"total_charges\"], errors = 'coerce')\n",
    "\n",
    "df[df[\"total_charges\"].isna()].T"
   ]
  },
  {
   "cell_type": "markdown",
   "source": [
    "Нет дубликатов, нет пропусков. Это связано с тем, что я заранее заполнила пустые строки нулями."
   ],
   "metadata": {
    "collapsed": false
   }
  },
  {
   "cell_type": "markdown",
   "id": "2c030a1f-7848-4412-93b1-a8eecc8cbf5f",
   "metadata": {
    "id": "2c030a1f-7848-4412-93b1-a8eecc8cbf5f"
   },
   "source": [
    "**Но как выглядят наши данные обычно?**"
   ]
  },
  {
   "cell_type": "code",
   "execution_count": 39,
   "id": "c5a0c8e0-8906-4a9a-b081-b718f4e11053",
   "metadata": {
    "tags": [],
    "id": "c5a0c8e0-8906-4a9a-b081-b718f4e11053",
    "ExecuteTime": {
     "end_time": "2023-06-21T06:23:54.699924736Z",
     "start_time": "2023-06-21T06:23:54.638417510Z"
    }
   },
   "outputs": [
    {
     "data": {
      "text/plain": "     customer_id  gender  senior_citizen partner dependents  tenure  \\\n1531  7107-UBYKY  Female               0     Yes        Yes      35   \n6449  7601-WFVZV    Male               0      No         No       1   \n6015  2325-NBPZG  Female               0      No         No       3   \n6209  3417-TSCIC    Male               0      No         No      29   \n2095  9300-RENDD    Male               0      No         No       1   \n\n     phone_service    multiple_lines internet_service      online_security  \\\n1531           Yes               Yes               No  No internet service   \n6449           Yes                No               No  No internet service   \n6015           Yes                No      Fiber optic                  Yes   \n6209            No  No phone service              DSL                   No   \n2095           Yes                No      Fiber optic                   No   \n\n            online_backup    device_protection         tech_support  \\\n1531  No internet service  No internet service  No internet service   \n6449  No internet service  No internet service  No internet service   \n6015                   No                   No                   No   \n6209                   No                   No                   No   \n2095                   No                   No                   No   \n\n             streaming_tv     streaming_movies        contract  \\\n1531  No internet service  No internet service  Month-to-month   \n6449  No internet service  No internet service  Month-to-month   \n6015                   No                   No  Month-to-month   \n6209                   No                   No        One year   \n2095                  Yes                   No  Month-to-month   \n\n     paperless_billing    payment_method  monthly_charges  total_charges churn  \n1531               Yes  Electronic check            25.75         882.55    No  \n6449                No      Mailed check            19.55          19.55    No  \n6015               Yes  Electronic check            74.55         233.65    No  \n6209               Yes      Mailed check            24.85         788.05    No  \n2095               Yes  Electronic check            79.95          79.95   Yes  ",
      "text/html": "<div>\n<style scoped>\n    .dataframe tbody tr th:only-of-type {\n        vertical-align: middle;\n    }\n\n    .dataframe tbody tr th {\n        vertical-align: top;\n    }\n\n    .dataframe thead th {\n        text-align: right;\n    }\n</style>\n<table border=\"1\" class=\"dataframe\">\n  <thead>\n    <tr style=\"text-align: right;\">\n      <th></th>\n      <th>customer_id</th>\n      <th>gender</th>\n      <th>senior_citizen</th>\n      <th>partner</th>\n      <th>dependents</th>\n      <th>tenure</th>\n      <th>phone_service</th>\n      <th>multiple_lines</th>\n      <th>internet_service</th>\n      <th>online_security</th>\n      <th>online_backup</th>\n      <th>device_protection</th>\n      <th>tech_support</th>\n      <th>streaming_tv</th>\n      <th>streaming_movies</th>\n      <th>contract</th>\n      <th>paperless_billing</th>\n      <th>payment_method</th>\n      <th>monthly_charges</th>\n      <th>total_charges</th>\n      <th>churn</th>\n    </tr>\n  </thead>\n  <tbody>\n    <tr>\n      <th>1531</th>\n      <td>7107-UBYKY</td>\n      <td>Female</td>\n      <td>0</td>\n      <td>Yes</td>\n      <td>Yes</td>\n      <td>35</td>\n      <td>Yes</td>\n      <td>Yes</td>\n      <td>No</td>\n      <td>No internet service</td>\n      <td>No internet service</td>\n      <td>No internet service</td>\n      <td>No internet service</td>\n      <td>No internet service</td>\n      <td>No internet service</td>\n      <td>Month-to-month</td>\n      <td>Yes</td>\n      <td>Electronic check</td>\n      <td>25.75</td>\n      <td>882.55</td>\n      <td>No</td>\n    </tr>\n    <tr>\n      <th>6449</th>\n      <td>7601-WFVZV</td>\n      <td>Male</td>\n      <td>0</td>\n      <td>No</td>\n      <td>No</td>\n      <td>1</td>\n      <td>Yes</td>\n      <td>No</td>\n      <td>No</td>\n      <td>No internet service</td>\n      <td>No internet service</td>\n      <td>No internet service</td>\n      <td>No internet service</td>\n      <td>No internet service</td>\n      <td>No internet service</td>\n      <td>Month-to-month</td>\n      <td>No</td>\n      <td>Mailed check</td>\n      <td>19.55</td>\n      <td>19.55</td>\n      <td>No</td>\n    </tr>\n    <tr>\n      <th>6015</th>\n      <td>2325-NBPZG</td>\n      <td>Female</td>\n      <td>0</td>\n      <td>No</td>\n      <td>No</td>\n      <td>3</td>\n      <td>Yes</td>\n      <td>No</td>\n      <td>Fiber optic</td>\n      <td>Yes</td>\n      <td>No</td>\n      <td>No</td>\n      <td>No</td>\n      <td>No</td>\n      <td>No</td>\n      <td>Month-to-month</td>\n      <td>Yes</td>\n      <td>Electronic check</td>\n      <td>74.55</td>\n      <td>233.65</td>\n      <td>No</td>\n    </tr>\n    <tr>\n      <th>6209</th>\n      <td>3417-TSCIC</td>\n      <td>Male</td>\n      <td>0</td>\n      <td>No</td>\n      <td>No</td>\n      <td>29</td>\n      <td>No</td>\n      <td>No phone service</td>\n      <td>DSL</td>\n      <td>No</td>\n      <td>No</td>\n      <td>No</td>\n      <td>No</td>\n      <td>No</td>\n      <td>No</td>\n      <td>One year</td>\n      <td>Yes</td>\n      <td>Mailed check</td>\n      <td>24.85</td>\n      <td>788.05</td>\n      <td>No</td>\n    </tr>\n    <tr>\n      <th>2095</th>\n      <td>9300-RENDD</td>\n      <td>Male</td>\n      <td>0</td>\n      <td>No</td>\n      <td>No</td>\n      <td>1</td>\n      <td>Yes</td>\n      <td>No</td>\n      <td>Fiber optic</td>\n      <td>No</td>\n      <td>No</td>\n      <td>No</td>\n      <td>No</td>\n      <td>Yes</td>\n      <td>No</td>\n      <td>Month-to-month</td>\n      <td>Yes</td>\n      <td>Electronic check</td>\n      <td>79.95</td>\n      <td>79.95</td>\n      <td>Yes</td>\n    </tr>\n  </tbody>\n</table>\n</div>"
     },
     "execution_count": 39,
     "metadata": {},
     "output_type": "execute_result"
    }
   ],
   "source": [
    "df.sample(5)"
   ]
  },
  {
   "cell_type": "markdown",
   "id": "089c43d2-f7e8-4494-8f29-0419d0e4d193",
   "metadata": {
    "id": "089c43d2-f7e8-4494-8f29-0419d0e4d193"
   },
   "source": [
    "**Ничего не заметили?**\n",
    "\n",
    "Может общая сумма, списанная с клиента, равна сумме, взимаемой с клиента ежемесячно, умноженной на количество времени?\n",
    "\n",
    "Давайте посмотрим."
   ]
  },
  {
   "cell_type": "code",
   "execution_count": 40,
   "id": "b5694487-db1c-4cf6-b543-af9e6a120970",
   "metadata": {
    "id": "b5694487-db1c-4cf6-b543-af9e6a120970",
    "ExecuteTime": {
     "end_time": "2023-06-21T06:24:39.513019477Z",
     "start_time": "2023-06-21T06:24:39.478712869Z"
    }
   },
   "outputs": [
    {
     "data": {
      "text/plain": "   customer_id  gender  senior_citizen partner dependents  tenure  \\\n0   7590-VHVEG  Female               0     Yes         No       1   \n20  8779-QRDMV    Male               1      No         No       1   \n22  1066-JKSGK    Male               0      No         No       1   \n27  8665-UTDHZ    Male               0     Yes        Yes       1   \n33  7310-EGVHZ    Male               0      No         No       1   \n\n   phone_service    multiple_lines internet_service      online_security  \\\n0             No  No phone service              DSL                   No   \n20            No  No phone service              DSL                   No   \n22           Yes                No               No  No internet service   \n27            No  No phone service              DSL                   No   \n33           Yes                No               No  No internet service   \n\n          online_backup    device_protection         tech_support  \\\n0                   Yes                   No                   No   \n20                   No                  Yes                   No   \n22  No internet service  No internet service  No internet service   \n27                  Yes                   No                   No   \n33  No internet service  No internet service  No internet service   \n\n           streaming_tv     streaming_movies        contract  \\\n0                    No                   No  Month-to-month   \n20                   No                  Yes  Month-to-month   \n22  No internet service  No internet service  Month-to-month   \n27                   No                   No  Month-to-month   \n33  No internet service  No internet service  Month-to-month   \n\n   paperless_billing             payment_method  monthly_charges  \\\n0                Yes           Electronic check            29.85   \n20               Yes           Electronic check            39.65   \n22                No               Mailed check            20.15   \n27                No           Electronic check            30.20   \n33                No  Bank transfer (automatic)            20.20   \n\n    total_charges churn  \n0           29.85    No  \n20          39.65   Yes  \n22          20.15   Yes  \n27          30.20   Yes  \n33          20.20    No  ",
      "text/html": "<div>\n<style scoped>\n    .dataframe tbody tr th:only-of-type {\n        vertical-align: middle;\n    }\n\n    .dataframe tbody tr th {\n        vertical-align: top;\n    }\n\n    .dataframe thead th {\n        text-align: right;\n    }\n</style>\n<table border=\"1\" class=\"dataframe\">\n  <thead>\n    <tr style=\"text-align: right;\">\n      <th></th>\n      <th>customer_id</th>\n      <th>gender</th>\n      <th>senior_citizen</th>\n      <th>partner</th>\n      <th>dependents</th>\n      <th>tenure</th>\n      <th>phone_service</th>\n      <th>multiple_lines</th>\n      <th>internet_service</th>\n      <th>online_security</th>\n      <th>online_backup</th>\n      <th>device_protection</th>\n      <th>tech_support</th>\n      <th>streaming_tv</th>\n      <th>streaming_movies</th>\n      <th>contract</th>\n      <th>paperless_billing</th>\n      <th>payment_method</th>\n      <th>monthly_charges</th>\n      <th>total_charges</th>\n      <th>churn</th>\n    </tr>\n  </thead>\n  <tbody>\n    <tr>\n      <th>0</th>\n      <td>7590-VHVEG</td>\n      <td>Female</td>\n      <td>0</td>\n      <td>Yes</td>\n      <td>No</td>\n      <td>1</td>\n      <td>No</td>\n      <td>No phone service</td>\n      <td>DSL</td>\n      <td>No</td>\n      <td>Yes</td>\n      <td>No</td>\n      <td>No</td>\n      <td>No</td>\n      <td>No</td>\n      <td>Month-to-month</td>\n      <td>Yes</td>\n      <td>Electronic check</td>\n      <td>29.85</td>\n      <td>29.85</td>\n      <td>No</td>\n    </tr>\n    <tr>\n      <th>20</th>\n      <td>8779-QRDMV</td>\n      <td>Male</td>\n      <td>1</td>\n      <td>No</td>\n      <td>No</td>\n      <td>1</td>\n      <td>No</td>\n      <td>No phone service</td>\n      <td>DSL</td>\n      <td>No</td>\n      <td>No</td>\n      <td>Yes</td>\n      <td>No</td>\n      <td>No</td>\n      <td>Yes</td>\n      <td>Month-to-month</td>\n      <td>Yes</td>\n      <td>Electronic check</td>\n      <td>39.65</td>\n      <td>39.65</td>\n      <td>Yes</td>\n    </tr>\n    <tr>\n      <th>22</th>\n      <td>1066-JKSGK</td>\n      <td>Male</td>\n      <td>0</td>\n      <td>No</td>\n      <td>No</td>\n      <td>1</td>\n      <td>Yes</td>\n      <td>No</td>\n      <td>No</td>\n      <td>No internet service</td>\n      <td>No internet service</td>\n      <td>No internet service</td>\n      <td>No internet service</td>\n      <td>No internet service</td>\n      <td>No internet service</td>\n      <td>Month-to-month</td>\n      <td>No</td>\n      <td>Mailed check</td>\n      <td>20.15</td>\n      <td>20.15</td>\n      <td>Yes</td>\n    </tr>\n    <tr>\n      <th>27</th>\n      <td>8665-UTDHZ</td>\n      <td>Male</td>\n      <td>0</td>\n      <td>Yes</td>\n      <td>Yes</td>\n      <td>1</td>\n      <td>No</td>\n      <td>No phone service</td>\n      <td>DSL</td>\n      <td>No</td>\n      <td>Yes</td>\n      <td>No</td>\n      <td>No</td>\n      <td>No</td>\n      <td>No</td>\n      <td>Month-to-month</td>\n      <td>No</td>\n      <td>Electronic check</td>\n      <td>30.20</td>\n      <td>30.20</td>\n      <td>Yes</td>\n    </tr>\n    <tr>\n      <th>33</th>\n      <td>7310-EGVHZ</td>\n      <td>Male</td>\n      <td>0</td>\n      <td>No</td>\n      <td>No</td>\n      <td>1</td>\n      <td>Yes</td>\n      <td>No</td>\n      <td>No</td>\n      <td>No internet service</td>\n      <td>No internet service</td>\n      <td>No internet service</td>\n      <td>No internet service</td>\n      <td>No internet service</td>\n      <td>No internet service</td>\n      <td>Month-to-month</td>\n      <td>No</td>\n      <td>Bank transfer (automatic)</td>\n      <td>20.20</td>\n      <td>20.20</td>\n      <td>No</td>\n    </tr>\n  </tbody>\n</table>\n</div>"
     },
     "execution_count": 40,
     "metadata": {},
     "output_type": "execute_result"
    }
   ],
   "source": [
    "df[(df['total_charges'] / df['monthly_charges']) == df['tenure']].head()"
   ]
  },
  {
   "cell_type": "markdown",
   "id": "12128a01-51a2-4a15-a8ab-d72557b413fe",
   "metadata": {
    "id": "12128a01-51a2-4a15-a8ab-d72557b413fe"
   },
   "source": [
    "Нашей гипотезе есть место быть.\n",
    "\n",
    "Значит `TotalCharges` = `MonthlyCharges` * время. В данном датасете указано только количество месяцев, без точного времени, потому будет грубо просто перемножить один столбец на другой. Но пропуски мы уже можем заменить на `0`, так как в тех строках `tenure` == 0.\n",
    "\n",
    "Заменим пропуски на нужное нам число."
   ]
  },
  {
   "cell_type": "code",
   "execution_count": null,
   "id": "085bfa2f-2800-4814-9877-9fccf7c5994c",
   "metadata": {
    "tags": [],
    "id": "085bfa2f-2800-4814-9877-9fccf7c5994c"
   },
   "outputs": [],
   "source": [
    "# было сделано на начальном этапе\n",
    "# df['TotalCharges'].fillna(0, inplace=True)"
   ]
  },
  {
   "cell_type": "markdown",
   "id": "pt3BGKLdPcn9",
   "metadata": {
    "id": "pt3BGKLdPcn9"
   },
   "source": [
    "### Изменение типа данных"
   ]
  },
  {
   "cell_type": "markdown",
   "id": "12573416-214f-48ef-9a39-3d007253cf7a",
   "metadata": {
    "id": "12573416-214f-48ef-9a39-3d007253cf7a"
   },
   "source": [
    "Рассмотрев все данные, замените типы на нужные (при необходимости):\n",
    "\n",
    "- Если есть числа — на `int` или `float`\n",
    "- Если категории — можно оставить `object`"
   ]
  },
  {
   "cell_type": "code",
   "execution_count": null,
   "id": "8099b599-1a04-437b-a2c9-ee834eee2809",
   "metadata": {
    "id": "8099b599-1a04-437b-a2c9-ee834eee2809"
   },
   "outputs": [],
   "source": [
    "# сделано выше"
   ]
  },
  {
   "cell_type": "markdown",
   "id": "6e2ca993-d92d-4ea3-bca5-6408708f6e83",
   "metadata": {
    "id": "6e2ca993-d92d-4ea3-bca5-6408708f6e83"
   },
   "source": [
    "**Вывод:**\n",
    "Тип данных int может существенно исказить картину, в частности на малых числах, показателях, коэффициентах. Поэтому целесообразно приводить данные именно к данному формату."
   ]
  },
  {
   "cell_type": "markdown",
   "id": "84339281",
   "metadata": {
    "id": "84339281",
    "papermill": {
     "duration": 0.135596,
     "end_time": "2022-09-17T00:13:12.914231",
     "exception": false,
     "start_time": "2022-09-17T00:13:12.778635",
     "status": "completed"
    },
    "tags": []
   },
   "source": [
    "\n",
    "\n",
    "```\n",
    "# Выбран кодовый формат\n",
    "```\n",
    "\n",
    "# 4. Проверка гипотез"
   ]
  },
  {
   "cell_type": "markdown",
   "id": "a6d6cc55-2a27-45ac-9f63-6ba92410d0ae",
   "metadata": {
    "id": "a6d6cc55-2a27-45ac-9f63-6ba92410d0ae"
   },
   "source": [
    "Задание: сравнить две выборки - `Churn='No'` и `Churn='Yes'` \n",
    "\n",
    "Гипотеза — среднее количество месяцев, в течение которых клиент оставался в компании, отличается между двумя выборками."
   ]
  },
  {
   "cell_type": "code",
   "execution_count": 43,
   "id": "a0d13764-53ad-4218-b614-c3ca5fb40ad2",
   "metadata": {
    "id": "a0d13764-53ad-4218-b614-c3ca5fb40ad2",
    "ExecuteTime": {
     "end_time": "2023-06-21T06:31:42.393297267Z",
     "start_time": "2023-06-21T06:31:42.342262481Z"
    }
   },
   "outputs": [
    {
     "name": "stdout",
     "output_type": "stream",
     "text": [
      "581.361842403119 381.2606667714428\n"
     ]
    }
   ],
   "source": [
    "# создаем массив значений из отфильтрованного столбца датафрейма\n",
    "a = df.loc[df.churn == 'No']['tenure'].values\n",
    "b = df.loc[df.churn == 'Yes']['tenure'].values\n",
    "# проверка дисперсии\n",
    "print(np.var(a), np.var(b))"
   ]
  },
  {
   "cell_type": "code",
   "execution_count": 44,
   "outputs": [
    {
     "name": "stdout",
     "output_type": "stream",
     "text": [
      "P-value: 0.00000. Нулевая гипотеза отвергается\n"
     ]
    }
   ],
   "source": [
    "# применим метод scipy.stats.ttest_ind() - определение равенства средних двух соседних совокупностей\n",
    "\n",
    "alpha = 0.05\n",
    "t_stat, pvalue = stats.ttest_ind(a, b)\n",
    "if pvalue < alpha:\n",
    "    print(f'P-value: {pvalue:.5f}. Нулевая гипотеза отвергается')\n",
    "else:\n",
    "    print(f'P-value: {pvalue:.5f}. Подтверждается нулевая гипотеза')"
   ],
   "metadata": {
    "collapsed": false,
    "ExecuteTime": {
     "end_time": "2023-06-21T06:34:50.392918205Z",
     "start_time": "2023-06-21T06:34:50.331621129Z"
    }
   }
  },
  {
   "cell_type": "markdown",
   "id": "66691f06-afde-4300-99f9-a4c781878d68",
   "metadata": {
    "id": "66691f06-afde-4300-99f9-a4c781878d68"
   },
   "source": [
    "**Вывод:**\n",
    "1. Как видим, большинство клиентов предпочитает оставаться и пользоваться услугами компании.\n",
    "2. Поскольку нулевая гипотеза отвергается, можно сделать вывод о том, что среднее количество месяцев, в течении которого клиент остается в компании существено отличается между теми, кто в компании остался, и теми, кто прервал сотрудничество."
   ]
  },
  {
   "cell_type": "markdown",
   "id": "182612f7",
   "metadata": {
    "id": "182612f7",
    "papermill": {
     "duration": 0.135397,
     "end_time": "2022-09-17T00:13:13.186292",
     "exception": false,
     "start_time": "2022-09-17T00:13:13.050895",
     "status": "completed"
    },
    "tags": []
   },
   "source": [
    "## 5. Статистический анализ на норму"
   ]
  },
  {
   "cell_type": "markdown",
   "id": "c9cdddbd-896d-48af-9b88-662204560cb7",
   "metadata": {
    "id": "c9cdddbd-896d-48af-9b88-662204560cb7"
   },
   "source": [
    "Задание: выберите числовые признаки и проведите анализ — соответствуют ли распределения нормальному?"
   ]
  },
  {
   "cell_type": "code",
   "execution_count": 45,
   "id": "7cf1ce3c-4ee0-4a63-a3fc-a0ef35e759f6",
   "metadata": {
    "id": "7cf1ce3c-4ee0-4a63-a3fc-a0ef35e759f6",
    "ExecuteTime": {
     "end_time": "2023-06-21T06:44:59.747985857Z",
     "start_time": "2023-06-21T06:44:59.685625639Z"
    }
   },
   "outputs": [
    {
     "name": "stdout",
     "output_type": "stream",
     "text": [
      "Statistic: 346.638\n",
      "Уровень значимости 15.00 % : критическое значение 0.576, данные не выглядят нормально (отклоняем НО)\n",
      "Уровень значимости 10.00 % : критическое значение 0.656, данные не выглядят нормально (отклоняем НО)\n",
      "Уровень значимости 5.00 % : критическое значение 0.787, данные не выглядят нормально (отклоняем НО)\n",
      "Уровень значимости 2.50 % : критическое значение 0.917, данные не выглядят нормально (отклоняем НО)\n",
      "Уровень значимости 1.00 % : критическое значение 1.091, данные не выглядят нормально (отклоняем НО)\n"
     ]
    }
   ],
   "source": [
    "# распределение всех сумм оплаты за все время\n",
    "c = df.total_charges.values\n",
    "\n",
    "# проверка критерия Андерсона-Дарлинга\n",
    "result = stats.anderson(c)\n",
    "print('Statistic: %.3f' % result.statistic)\n",
    "\n",
    "p = 0\n",
    "\n",
    "for i in range(len(result.critical_values)):\n",
    "    sl, cv = result.significance_level[i], result.critical_values[i]\n",
    "    if result.statistic < result.critical_values[i]:\n",
    "        print(f'Уровень значимости {sl:.2f} % : критическое значение {cv:.3f}, данные выглядят нормально (не удается отклонить НО)')\n",
    "    else:\n",
    "        print(f'Уровень значимости {sl:.2f} % : критическое значение {cv:.3f}, данные не выглядят нормально (отклоняем НО)')\n"
   ]
  },
  {
   "cell_type": "markdown",
   "source": [
    "Ранее не была установлена и импортирована библиотека matplotlib. Поэтому делаю это на данном этапе для визуализации данных."
   ],
   "metadata": {
    "collapsed": false
   }
  },
  {
   "cell_type": "code",
   "execution_count": 48,
   "outputs": [
    {
     "name": "stdout",
     "output_type": "stream",
     "text": [
      "Collecting matplotlib\r\n",
      "  Using cached matplotlib-3.7.1-cp310-cp310-manylinux_2_17_x86_64.manylinux2014_x86_64.whl (11.6 MB)\r\n",
      "Collecting fonttools>=4.22.0\r\n",
      "  Downloading fonttools-4.40.0-cp310-cp310-manylinux_2_17_x86_64.manylinux2014_x86_64.whl (4.2 MB)\r\n",
      "\u001B[2K     \u001B[90m━━━━━━━━━━━━━━━━━━━━━━━━━━━━━━━━━━━━━━━━\u001B[0m \u001B[32m4.2/4.2 MB\u001B[0m \u001B[31m3.6 MB/s\u001B[0m eta \u001B[36m0:00:00\u001B[0m00:01\u001B[0m00:01\u001B[0m\r\n",
      "\u001B[?25hRequirement already satisfied: python-dateutil>=2.7 in /home/maria/PycharmProjects/DS/venv/lib/python3.10/site-packages (from matplotlib) (2.8.2)\r\n",
      "Requirement already satisfied: packaging>=20.0 in /home/maria/PycharmProjects/DS/venv/lib/python3.10/site-packages (from matplotlib) (23.1)\r\n",
      "Collecting contourpy>=1.0.1\r\n",
      "  Downloading contourpy-1.1.0-cp310-cp310-manylinux_2_17_x86_64.manylinux2014_x86_64.whl (300 kB)\r\n",
      "\u001B[2K     \u001B[90m━━━━━━━━━━━━━━━━━━━━━━━━━━━━━━━━━━━━━━━\u001B[0m \u001B[32m300.7/300.7 kB\u001B[0m \u001B[31m7.3 MB/s\u001B[0m eta \u001B[36m0:00:00\u001B[0m00:01\u001B[0m\r\n",
      "\u001B[?25hCollecting pyparsing>=2.3.1\r\n",
      "  Downloading pyparsing-3.1.0-py3-none-any.whl (102 kB)\r\n",
      "\u001B[2K     \u001B[90m━━━━━━━━━━━━━━━━━━━━━━━━━━━━━━━━━━━━━━━\u001B[0m \u001B[32m102.6/102.6 kB\u001B[0m \u001B[31m1.5 MB/s\u001B[0m eta \u001B[36m0:00:00\u001B[0m-:--:--\u001B[0m\r\n",
      "\u001B[?25hRequirement already satisfied: numpy>=1.20 in /home/maria/PycharmProjects/DS/venv/lib/python3.10/site-packages (from matplotlib) (1.24.3)\r\n",
      "Collecting pillow>=6.2.0\r\n",
      "  Using cached Pillow-9.5.0-cp310-cp310-manylinux_2_28_x86_64.whl (3.4 MB)\r\n",
      "Collecting cycler>=0.10\r\n",
      "  Using cached cycler-0.11.0-py3-none-any.whl (6.4 kB)\r\n",
      "Collecting kiwisolver>=1.0.1\r\n",
      "  Using cached kiwisolver-1.4.4-cp310-cp310-manylinux_2_12_x86_64.manylinux2010_x86_64.whl (1.6 MB)\r\n",
      "Requirement already satisfied: six>=1.5 in /home/maria/PycharmProjects/DS/venv/lib/python3.10/site-packages (from python-dateutil>=2.7->matplotlib) (1.16.0)\r\n",
      "Installing collected packages: pyparsing, pillow, kiwisolver, fonttools, cycler, contourpy, matplotlib\r\n",
      "Successfully installed contourpy-1.1.0 cycler-0.11.0 fonttools-4.40.0 kiwisolver-1.4.4 matplotlib-3.7.1 pillow-9.5.0 pyparsing-3.1.0\r\n",
      "\r\n",
      "\u001B[1m[\u001B[0m\u001B[34;49mnotice\u001B[0m\u001B[1;39;49m]\u001B[0m\u001B[39;49m A new release of pip available: \u001B[0m\u001B[31;49m22.3.1\u001B[0m\u001B[39;49m -> \u001B[0m\u001B[32;49m23.1.2\u001B[0m\r\n",
      "\u001B[1m[\u001B[0m\u001B[34;49mnotice\u001B[0m\u001B[1;39;49m]\u001B[0m\u001B[39;49m To update, run: \u001B[0m\u001B[32;49mpip install --upgrade pip\u001B[0m\r\n"
     ]
    }
   ],
   "source": [
    "!pip install matplotlib"
   ],
   "metadata": {
    "collapsed": false,
    "ExecuteTime": {
     "end_time": "2023-06-21T06:46:34.489287747Z",
     "start_time": "2023-06-21T06:46:25.707654101Z"
    }
   }
  },
  {
   "cell_type": "code",
   "execution_count": 49,
   "outputs": [],
   "source": [
    "import matplotlib_inline"
   ],
   "metadata": {
    "collapsed": false,
    "ExecuteTime": {
     "end_time": "2023-06-21T06:47:04.958521989Z",
     "start_time": "2023-06-21T06:47:03.434653680Z"
    }
   }
  },
  {
   "cell_type": "code",
   "execution_count": 50,
   "id": "c5c7251c-09de-40c2-8fc6-372e9dc30d19",
   "metadata": {
    "id": "c5c7251c-09de-40c2-8fc6-372e9dc30d19",
    "ExecuteTime": {
     "end_time": "2023-06-21T06:47:06.766672991Z",
     "start_time": "2023-06-21T06:47:06.367683451Z"
    }
   },
   "outputs": [
    {
     "data": {
      "text/plain": "<Axes: >"
     },
     "execution_count": 50,
     "metadata": {},
     "output_type": "execute_result"
    },
    {
     "data": {
      "text/plain": "<Figure size 640x480 with 1 Axes>",
      "image/png": "[encoded data removed]"
     },
     "metadata": {},
     "output_type": "display_data"
    }
   ],
   "source": [
    "# построение гстограммы\n",
    "\n",
    "\n",
    "df.total_charges.hist(bins=30)"
   ]
  },
  {
   "cell_type": "markdown",
   "id": "b9040662-d2e5-4bfe-9d50-e7070ea54714",
   "metadata": {
    "id": "b9040662-d2e5-4bfe-9d50-e7070ea54714"
   },
   "source": [
    "**Вывод:**\n",
    "1. На данном графике видим отрицательную криволинейную завимсимость.\n",
    "2. Нормальное распределение отсуствует, это также было подтверждено расчетами, нулевая гипотеза была отвергнута"
   ]
  },
  {
   "cell_type": "markdown",
   "id": "3f764616-e487-4f19-b6b8-25104e3f3195",
   "metadata": {
    "id": "3f764616-e487-4f19-b6b8-25104e3f3195"
   },
   "source": [
    "# Общий вывод"
   ]
  },
  {
   "cell_type": "markdown",
   "id": "3f3c0bce-40e3-4933-92a5-3b3e83b2ec89",
   "metadata": {
    "id": "3f3c0bce-40e3-4933-92a5-3b3e83b2ec89"
   },
   "source": [
    "Опишите данные и результат исследования, основываясь на предыдущих шагах:\n",
    "\n",
    "1. Изначальный датасет содержал в себе много пропусков(пробелов), которые целесообразно оказалось заменить 0 значениями, поскольку данные клиенты ничего не внесли в компанию. Никак не повлияли на общую выручку.\n",
    "2. Общая сумма, списанная с клиента оказалась одинаковой, как при среднем значении, так и при медианном. Это хороший показатель, с помощью которого можно строить прогнозы относительно того, сколько денег можно будет заработать при увеличении числа клиентов. По идее это должно работать на больших количествах новых клиентов.\n",
    "3. Нет тенденции относительно того, сколько клиент в компании. Нет никаких зависимостей. Возможно стоит этот показатель анализировать глубже, искать причины по которым так или иначе имеется отток клиентов. Однако подавляющее большинство остается клиентом компании долго.\n",
    "\n",
    "\n",
    "\n",
    "\n",
    "\n",
    "\n"
   ]
  },
  {
   "cell_type": "markdown",
   "id": "d8efa465-45b6-4f4d-b11d-fe89361cebcc",
   "metadata": {
    "id": "d8efa465-45b6-4f4d-b11d-fe89361cebcc"
   },
   "source": []
  }
 ],
 "metadata": {
  "colab": {
   "provenance": []
  },
  "kernelspec": {
   "display_name": "Python 3 (ipykernel)",
   "language": "python",
   "name": "python3"
  },
  "language_info": {
   "codemirror_mode": {
    "name": "ipython",
    "version": 3
   },
   "file_extension": ".py",
   "mimetype": "text/x-python",
   "name": "python",
   "nbconvert_exporter": "python",
   "pygments_lexer": "ipython3",
   "version": "3.10.11"
  },
  "papermill": {
   "default_parameters": {},
   "duration": 110.694338,
   "end_time": "2022-09-17T00:14:38.634386",
   "environment_variables": {},
   "exception": null,
   "input_path": "__notebook__.ipynb",
   "output_path": "__notebook__.ipynb",
   "parameters": {},
   "start_time": "2022-09-17T00:12:47.940048",
   "version": "2.3.3"
  }
 },
 "nbformat": 4,
 "nbformat_minor": 5
}
